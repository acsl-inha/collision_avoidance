{
 "cells": [
  {
   "cell_type": "code",
   "execution_count": 1,
   "metadata": {},
   "outputs": [],
   "source": [
    "import torch\n",
    "import numpy as np\n",
    "import pandas as pd\n",
    "import random\n",
    "import matplotlib\n",
    "import matplotlib.pyplot as plt\n",
    "import torchvision\n",
    "from torch.utils.data import Dataset, DataLoader\n",
    "import torch.nn as nn\n",
    "import torch.nn.functional as F\n",
    "import argparse,os,time\n",
    "import os\n",
    "import time\n",
    "import seaborn as sns\n",
    "# os.environ[\"CUDA_DEVICE_ORDER\"]=\"PCI_BUS_ID\"   \n",
    "# os.environ[\"CUDA_VISIBLE_DEVICES\"]=\"3\"\n",
    "num_gpus=4"
   ]
  },
  {
   "cell_type": "code",
   "execution_count": 2,
   "metadata": {},
   "outputs": [],
   "source": [
    "mean=np.load('mean.npy').tolist()\n",
    "std=np.load('std.npy').tolist()\n",
    "mean_test=np.load('mean_test.npy').tolist()\n",
    "std_test=np.load('std_test.npy').tolist()"
   ]
  },
  {
   "cell_type": "code",
   "execution_count": 3,
   "metadata": {},
   "outputs": [],
   "source": [
    "class CustomDataset(Dataset):\n",
    "    def __init__(self,path):\n",
    "        xy = np.loadtxt(path,\n",
    "                        delimiter=',', dtype=np.float32)\n",
    "        self.len = xy.shape[0]\n",
    "        self.x_data = torch.tensor(xy[:, 0:5])\n",
    "        xy=xy.astype('int_')\n",
    "        self.y_data = torch.tensor(xy[:, 5])\n",
    "\n",
    "    def __getitem__(self, index):\n",
    "        return self.x_data[index], self.y_data[index]\n",
    "\n",
    "    def __len__(self):\n",
    "        return self.len"
   ]
  },
  {
   "cell_type": "code",
   "execution_count": 4,
   "metadata": {},
   "outputs": [],
   "source": [
    "batch_size=300\n",
    "train_dataset = CustomDataset('norm_data_train_uniform_ext.csv')\n",
    "train_loader = DataLoader(dataset=train_dataset,pin_memory=True,\n",
    "                          batch_size=batch_size,\n",
    "                          shuffle=True,\n",
    "                          num_workers=60,drop_last=True)\n",
    "test_dataset = CustomDataset('norm_data_test_uniform_ext.csv')\n",
    "test_loader = DataLoader(dataset=test_dataset,pin_memory=True,\n",
    "                          batch_size=batch_size,\n",
    "                          shuffle=True,\n",
    "                          num_workers=60,drop_last=True)"
   ]
  },
  {
   "cell_type": "code",
   "execution_count": 5,
   "metadata": {},
   "outputs": [],
   "source": [
    "class Model(torch.nn.Module):\n",
    "    def __init__(self):\n",
    "        super(Model, self).__init__()\n",
    "        self.fc = nn.Sequential(\n",
    "            nn.Linear(5, 40),\n",
    "            nn.LeakyReLU(0.2, inplace=True),\n",
    "            nn.Linear(40, 40),\n",
    "            nn.LeakyReLU(0.2, inplace=True),\n",
    "            nn.Linear(40, 40),\n",
    "            nn.LeakyReLU(0.2, inplace=True),\n",
    "            nn.Linear(40, 40),\n",
    "            nn.LeakyReLU(0.2, inplace=True),\n",
    "            nn.Linear(40, 40),\n",
    "            nn.LeakyReLU(0.2, inplace=True),\n",
    "            nn.Linear(40, 40),\n",
    "            nn.LeakyReLU(0.2, inplace=True),\n",
    "            nn.Linear(40, 40),\n",
    "            nn.LeakyReLU(0.2, inplace=True),\n",
    "            nn.Linear(40, 3)\n",
    "        )\n",
    "\n",
    "    def forward(self, x):\n",
    "        x=x.view(batch_size//num_gpus,-1)\n",
    "        out=self.fc(x)\n",
    "        return out"
   ]
  },
  {
   "cell_type": "code",
   "execution_count": 6,
   "metadata": {},
   "outputs": [
    {
     "name": "stdout",
     "output_type": "stream",
     "text": [
      "epoch 0, loss 0.040395114570856094, idx 999\n",
      "2020/12/15 03:50:17\n",
      "epoch 1, loss 0.042728349566459656, idx 999\n",
      "2020/12/15 03:50:42\n",
      "epoch 2, loss 0.0888364315032959, idx 999\n",
      "2020/12/15 03:51:07\n",
      "epoch 3, loss 0.016681160777807236, idx 999\n",
      "2020/12/15 03:51:31\n",
      "epoch 4, loss 0.02618062123656273, idx 999\n",
      "2020/12/15 03:51:56\n",
      "epoch 5, loss 0.03955575451254845, idx 999\n",
      "2020/12/15 03:52:21\n",
      "epoch 6, loss 0.06266990303993225, idx 999\n",
      "2020/12/15 03:52:46\n",
      "epoch 7, loss 0.014678397215902805, idx 999\n",
      "2020/12/15 03:53:10\n",
      "epoch 8, loss 0.014126570895314217, idx 999\n",
      "2020/12/15 03:53:35\n",
      "epoch 9, loss 0.06889980286359787, idx 999\n",
      "2020/12/15 03:53:59\n",
      "epoch 10, loss 0.007398219313472509, idx 999\n",
      "2020/12/15 03:54:24\n",
      "epoch 11, loss 0.03702089190483093, idx 999\n",
      "2020/12/15 03:54:49\n",
      "epoch 12, loss 0.03935534879565239, idx 999\n",
      "2020/12/15 03:55:13\n",
      "epoch 13, loss 0.03987869247794151, idx 999\n",
      "2020/12/15 03:55:38\n",
      "epoch 14, loss 0.009469350799918175, idx 999\n",
      "2020/12/15 03:56:03\n",
      "epoch 15, loss 0.024872785434126854, idx 999\n",
      "2020/12/15 03:56:27\n",
      "epoch 16, loss 0.019529664888978004, idx 999\n",
      "2020/12/15 03:56:52\n",
      "epoch 17, loss 0.011819757521152496, idx 999\n",
      "2020/12/15 03:57:16\n",
      "epoch 18, loss 0.02776854857802391, idx 999\n",
      "2020/12/15 03:57:41\n",
      "epoch 19, loss 0.013271012343466282, idx 999\n",
      "2020/12/15 03:58:05\n",
      "epoch 20, loss 0.03637222200632095, idx 999\n",
      "2020/12/15 03:58:30\n",
      "epoch 21, loss 0.014445709995925426, idx 999\n",
      "2020/12/15 03:58:55\n",
      "epoch 22, loss 0.02285594493150711, idx 999\n",
      "2020/12/15 03:59:19\n",
      "epoch 23, loss 0.01426218543201685, idx 999\n",
      "2020/12/15 03:59:44\n",
      "epoch 24, loss 0.016488315537571907, idx 999\n",
      "2020/12/15 04:00:08\n",
      "epoch 25, loss 0.03246166184544563, idx 999\n",
      "2020/12/15 04:00:33\n",
      "epoch 26, loss 0.032045960426330566, idx 999\n",
      "2020/12/15 04:00:58\n",
      "epoch 27, loss 0.026766348630189896, idx 999\n",
      "2020/12/15 04:01:23\n",
      "epoch 28, loss 0.012347213923931122, idx 999\n",
      "2020/12/15 04:01:48\n",
      "epoch 29, loss 0.0299762561917305, idx 999\n",
      "2020/12/15 04:02:14\n",
      "epoch 30, loss 0.04073909670114517, idx 999\n",
      "2020/12/15 04:02:39\n",
      "epoch 31, loss 0.023820653557777405, idx 999\n",
      "2020/12/15 04:03:04\n",
      "epoch 32, loss 0.021611031144857407, idx 999\n",
      "2020/12/15 04:03:29\n",
      "epoch 33, loss 0.020386889576911926, idx 999\n",
      "2020/12/15 04:03:54\n",
      "epoch 34, loss 0.027347244322299957, idx 999\n",
      "2020/12/15 04:04:18\n",
      "epoch 35, loss 0.005973863415420055, idx 999\n",
      "2020/12/15 04:04:43\n",
      "epoch 36, loss 0.00919994618743658, idx 999\n",
      "2020/12/15 04:05:07\n",
      "epoch 37, loss 0.009252971038222313, idx 999\n",
      "2020/12/15 04:05:32\n",
      "epoch 38, loss 0.021166721358895302, idx 999\n",
      "2020/12/15 04:05:57\n",
      "epoch 39, loss 0.03421463072299957, idx 999\n",
      "2020/12/15 04:06:21\n",
      "epoch 40, loss 0.011580687016248703, idx 999\n",
      "2020/12/15 04:06:47\n",
      "epoch 41, loss 0.012411369010806084, idx 999\n",
      "2020/12/15 04:07:11\n",
      "epoch 42, loss 0.004427924752235413, idx 999\n",
      "2020/12/15 04:07:36\n",
      "epoch 43, loss 0.03547292947769165, idx 999\n",
      "2020/12/15 04:08:01\n",
      "epoch 44, loss 0.03952588886022568, idx 999\n",
      "2020/12/15 04:08:25\n",
      "epoch 45, loss 0.021943015977740288, idx 999\n",
      "2020/12/15 04:08:50\n",
      "epoch 46, loss 0.017848262563347816, idx 999\n",
      "2020/12/15 04:09:15\n",
      "epoch 47, loss 0.012883340008556843, idx 999\n",
      "2020/12/15 04:09:39\n",
      "epoch 48, loss 0.0058030798099935055, idx 999\n",
      "2020/12/15 04:10:04\n",
      "epoch 49, loss 0.0183609239757061, idx 999\n",
      "2020/12/15 04:10:28\n",
      "epoch 50, loss 0.02308991365134716, idx 999\n",
      "2020/12/15 04:10:53\n",
      "epoch 51, loss 0.01167082879692316, idx 999\n",
      "2020/12/15 04:11:18\n",
      "epoch 52, loss 0.01280910149216652, idx 999\n",
      "2020/12/15 04:11:42\n",
      "epoch 53, loss 0.007858509197831154, idx 999\n",
      "2020/12/15 04:12:07\n",
      "epoch 54, loss 0.013386092148721218, idx 999\n",
      "2020/12/15 04:12:31\n",
      "epoch 55, loss 0.02400142140686512, idx 999\n",
      "2020/12/15 04:12:56\n",
      "epoch 56, loss 0.0036252904683351517, idx 999\n",
      "2020/12/15 04:13:21\n",
      "epoch 57, loss 0.019782261922955513, idx 999\n",
      "2020/12/15 04:13:45\n",
      "epoch 58, loss 0.014596487395465374, idx 999\n",
      "2020/12/15 04:14:10\n",
      "epoch 59, loss 0.002787926932796836, idx 999\n",
      "2020/12/15 04:14:34\n",
      "epoch 60, loss 0.028868013992905617, idx 999\n",
      "2020/12/15 04:14:59\n",
      "epoch 61, loss 0.01908799633383751, idx 999\n",
      "2020/12/15 04:15:24\n",
      "epoch 62, loss 0.004421429708600044, idx 999\n",
      "2020/12/15 04:15:48\n",
      "epoch 63, loss 0.0012950983364135027, idx 999\n",
      "2020/12/15 04:16:13\n",
      "epoch 64, loss 0.01021535787731409, idx 999\n",
      "2020/12/15 04:16:38\n",
      "epoch 65, loss 0.001278805430047214, idx 999\n",
      "2020/12/15 04:17:03\n",
      "epoch 66, loss 0.002689312444999814, idx 999\n",
      "2020/12/15 04:17:27\n",
      "epoch 67, loss 0.003761815605685115, idx 999\n",
      "2020/12/15 04:17:52\n",
      "epoch 68, loss 0.030202969908714294, idx 999\n",
      "2020/12/15 04:18:17\n",
      "epoch 69, loss 0.006820065900683403, idx 999\n",
      "2020/12/15 04:18:41\n",
      "epoch 70, loss 0.0035982204135507345, idx 999\n",
      "2020/12/15 04:19:06\n",
      "epoch 71, loss 0.008855852298438549, idx 999\n",
      "2020/12/15 04:19:31\n",
      "epoch 72, loss 0.01561395451426506, idx 999\n",
      "2020/12/15 04:19:56\n",
      "epoch 73, loss 0.0324154794216156, idx 999\n",
      "2020/12/15 04:20:20\n",
      "epoch 74, loss 0.005244442727416754, idx 999\n",
      "2020/12/15 04:20:45\n",
      "epoch 75, loss 0.017632849514484406, idx 999\n",
      "2020/12/15 04:21:10\n",
      "epoch 76, loss 0.0187925323843956, idx 999\n",
      "2020/12/15 04:21:34\n",
      "epoch 77, loss 0.00799620058387518, idx 999\n",
      "2020/12/15 04:21:59\n",
      "epoch 78, loss 0.009235755540430546, idx 999\n",
      "2020/12/15 04:22:24\n",
      "epoch 79, loss 0.011982199735939503, idx 999\n",
      "2020/12/15 04:22:48\n",
      "epoch 80, loss 0.009023926220834255, idx 999\n",
      "2020/12/15 04:23:13\n",
      "epoch 81, loss 0.016917074099183083, idx 999\n",
      "2020/12/15 04:23:38\n",
      "epoch 82, loss 0.012901951558887959, idx 999\n",
      "2020/12/15 04:24:03\n",
      "epoch 83, loss 0.019764680415391922, idx 999\n",
      "2020/12/15 04:24:27\n",
      "epoch 84, loss 0.01204238273203373, idx 999\n",
      "2020/12/15 04:24:52\n",
      "epoch 85, loss 0.0038898333441466093, idx 999\n",
      "2020/12/15 04:25:17\n",
      "epoch 86, loss 0.0042149764485657215, idx 999\n",
      "2020/12/15 04:25:42\n",
      "epoch 87, loss 0.03240298107266426, idx 999\n",
      "2020/12/15 04:26:07\n",
      "epoch 88, loss 0.015694105997681618, idx 999\n",
      "2020/12/15 04:26:32\n",
      "epoch 89, loss 0.016043206676840782, idx 999\n",
      "2020/12/15 04:26:56\n",
      "epoch 90, loss 0.011114522814750671, idx 999\n",
      "2020/12/15 04:27:21\n",
      "epoch 91, loss 0.012572264298796654, idx 999\n",
      "2020/12/15 04:27:46\n",
      "epoch 92, loss 0.0033477763645350933, idx 999\n",
      "2020/12/15 04:28:11\n",
      "epoch 93, loss 0.03428647294640541, idx 999\n",
      "2020/12/15 04:28:35\n",
      "epoch 94, loss 0.00374141545034945, idx 999\n",
      "2020/12/15 04:29:00\n",
      "epoch 95, loss 0.017217272892594337, idx 999\n",
      "2020/12/15 04:29:25\n",
      "epoch 96, loss 0.011269033886492252, idx 999\n",
      "2020/12/15 04:29:49\n",
      "epoch 97, loss 0.008685735985636711, idx 999\n",
      "2020/12/15 04:30:14\n",
      "epoch 98, loss 0.002662669401615858, idx 999\n",
      "2020/12/15 04:30:39\n",
      "epoch 99, loss 0.025320373475551605, idx 999\n",
      "2020/12/15 04:31:04\n"
     ]
    }
   ],
   "source": [
    "model=nn.DataParallel(Model().cuda())\n",
    "\n",
    "# model=(nn.Sequential(model_start,model_temp,model_fin)).cuda()   \n",
    "if torch.cuda.is_available():\n",
    "    model.cuda()\n",
    "optimizer = torch.optim.Adam(model.parameters(), lr=1e-3)\n",
    "criterion = nn.CrossEntropyLoss()\n",
    "for epoch in range(100):\n",
    "    for idx, data in enumerate(train_loader, 0):\n",
    "        inputs, labels = data\n",
    "        if torch.cuda.is_available():\n",
    "            inputs=inputs.cuda()\n",
    "            labels=labels.cuda()\n",
    "        output= model(inputs)\n",
    "        optimizer.zero_grad()\n",
    "        loss=criterion(output, labels)\n",
    "        loss.backward()\n",
    "        optimizer.step()\n",
    "    print('epoch {}, loss {}, idx {}'.format(epoch, loss.item(),idx))\n",
    "    now = time.localtime()\n",
    "    print (\"%04d/%02d/%02d %02d:%02d:%02d\" % (now.tm_year, now.tm_mon, now.tm_mday, now.tm_hour, now.tm_min, now.tm_sec))\n"
   ]
  },
  {
   "cell_type": "code",
   "execution_count": 7,
   "metadata": {},
   "outputs": [],
   "source": [
    "target_temp=np.zeros(1)\n",
    "output_temp=np.zeros(1)\n",
    "input_temp=np.zeros((1,5))\n",
    "model.eval()\n",
    "with torch.no_grad():\n",
    "    for data, target in test_loader:\n",
    "        data, target = data.cuda(), target.cuda()\n",
    "        output = model(data)\n",
    "        _, predicted=torch.max(output,1)\n",
    "        target_temp=np.hstack([target_temp,target.cpu().numpy()])\n",
    "        output_temp=np.hstack([output_temp,predicted.cpu().numpy()])\n",
    "        input_temp=np.vstack([input_temp,data.cpu().numpy()])\n",
    "target_temp=np.delete(target_temp,0)\n",
    "output_temp=np.delete(output_temp,0)\n",
    "input_temp=np.delete(input_temp,0,axis=0)"
   ]
  },
  {
   "cell_type": "code",
   "execution_count": 8,
   "metadata": {},
   "outputs": [
    {
     "name": "stdout",
     "output_type": "stream",
     "text": [
      "Accuracy of the network: 99 %\n"
     ]
    }
   ],
   "source": [
    "correct = 0\n",
    "for i in range(len(output_temp)):\n",
    "    correct += (output_temp[i] == target_temp[i])\n",
    "\n",
    "print('Accuracy of the network: %d %%' % (\n",
    "    100 * correct /len(output_temp)))"
   ]
  },
  {
   "cell_type": "code",
   "execution_count": 9,
   "metadata": {},
   "outputs": [
    {
     "name": "stdout",
     "output_type": "stream",
     "text": [
      "Accuracy of the network control down: 99 %\n",
      "Accuracy of the network control stay: 99 %\n",
      "Accuracy of the network control up: 98 %\n"
     ]
    }
   ],
   "source": [
    "correct_d=0\n",
    "tot_d=0\n",
    "correct_u=0\n",
    "tot_u=0\n",
    "correct_s=0\n",
    "tot_s=0\n",
    "for i in range(len(output_temp)):\n",
    "    if(target_temp[i]==1):\n",
    "        correct_d += (output_temp[i] == target_temp[i])\n",
    "        tot_d += 1\n",
    "        \n",
    "    if(target_temp[i]==0):\n",
    "        correct_s += (output_temp[i] == target_temp[i])\n",
    "        tot_s += 1\n",
    "        \n",
    "    if(target_temp[i]==2):\n",
    "        correct_u += (output_temp[i] == target_temp[i])\n",
    "        tot_u += 1\n",
    "\n",
    "print('Accuracy of the network control down: %d %%' % (\n",
    "    100 * correct_d /tot_d))\n",
    "print('Accuracy of the network control stay: %d %%' % (\n",
    "    100 * correct_s /tot_s))\n",
    "print('Accuracy of the network control up: %d %%' % (\n",
    "    100 * correct_u /tot_u))"
   ]
  },
  {
   "cell_type": "code",
   "execution_count": 10,
   "metadata": {},
   "outputs": [
    {
     "data": {
      "text/plain": [
       "0.0"
      ]
     },
     "execution_count": 10,
     "metadata": {},
     "output_type": "execute_result"
    }
   ],
   "source": [
    "con_mat=np.zeros((3,3))\n",
    "con_mat[0,0]"
   ]
  },
  {
   "cell_type": "code",
   "execution_count": 11,
   "metadata": {},
   "outputs": [
    {
     "name": "stdout",
     "output_type": "stream",
     "text": [
      "[[29877.   123.     0.]\n",
      " [   74. 29852.    74.]\n",
      " [  215.   221. 29564.]]\n"
     ]
    },
    {
     "data": {
      "image/png": "[encoded data removed]",
      "text/plain": [
       "<Figure size 432x288 with 1 Axes>"
      ]
     },
     "metadata": {
      "needs_background": "light"
     },
     "output_type": "display_data"
    }
   ],
   "source": [
    "con_mat=np.zeros((3,3))\n",
    "con_mat2=np.zeros((2,2))\n",
    "tot_d=0\n",
    "tot_u=0\n",
    "tot_s=0\n",
    "for i in range(len(output_temp)):\n",
    "    if(target_temp[i]==1):\n",
    "        tot_d += 1\n",
    "        if (output_temp[i]==1):\n",
    "            con_mat[0,0]+=1\n",
    "        if (output_temp[i]==0):\n",
    "            con_mat[0,1]+=1\n",
    "        if (output_temp[i]==2):\n",
    "            con_mat[0,2]+=1\n",
    "        \n",
    "    if(target_temp[i]==0):\n",
    "        tot_s += 1\n",
    "        if (output_temp[i]==1):\n",
    "            con_mat[1,0]+=1\n",
    "        if (output_temp[i]==0):\n",
    "            con_mat[1,1]+=1\n",
    "        if (output_temp[i]==2):\n",
    "            con_mat[1,2]+=1\n",
    "        \n",
    "    if(target_temp[i]==2):\n",
    "        tot_u += 1\n",
    "        if (output_temp[i]==1):\n",
    "            con_mat[2,0]+=1\n",
    "        if (output_temp[i]==0):\n",
    "            con_mat[2,1]+=1\n",
    "        if (output_temp[i]==2):\n",
    "            con_mat[2,2]+=1\n",
    "        \n",
    "plt.imshow(con_mat,cmap=\"gray\")\n",
    "print(con_mat)\n",
    "con_mat2[0,0]=np.sum(con_mat[0:3:2,0:3:2])\n",
    "con_mat2[0,1]=np.sum(con_mat[0:3:2,1])\n",
    "con_mat2[1,0]=np.sum(con_mat[1,0:3:2])\n",
    "con_mat2[1,1]=np.sum(con_mat[1,1])"
   ]
  },
  {
   "cell_type": "code",
   "execution_count": 12,
   "metadata": {},
   "outputs": [],
   "source": [
    "df_cm = pd.DataFrame(con_mat, index = ['down','stay','up'],\n",
    "                  columns = ['down','stay','up'])"
   ]
  },
  {
   "cell_type": "code",
   "execution_count": 13,
   "metadata": {},
   "outputs": [
    {
     "data": {
      "text/plain": [
       "<AxesSubplot:>"
      ]
     },
     "execution_count": 13,
     "metadata": {},
     "output_type": "execute_result"
    },
    {
     "data": {
      "image/png": "[encoded data removed]",
      "text/plain": [
       "<Figure size 720x504 with 2 Axes>"
      ]
     },
     "metadata": {
      "needs_background": "light"
     },
     "output_type": "display_data"
    }
   ],
   "source": [
    "plt.figure(figsize = (10,7))\n",
    "sns.heatmap(df_cm, annot=True)"
   ]
  },
  {
   "cell_type": "code",
   "execution_count": 14,
   "metadata": {},
   "outputs": [
    {
     "name": "stdout",
     "output_type": "stream",
     "text": [
      "[[59656.   344.]\n",
      " [  148. 29852.]]\n"
     ]
    },
    {
     "data": {
      "image/png": "[encoded data removed]",
      "text/plain": [
       "<Figure size 720x504 with 2 Axes>"
      ]
     },
     "metadata": {
      "needs_background": "light"
     },
     "output_type": "display_data"
    }
   ],
   "source": [
    "df_cm = pd.DataFrame(con_mat2, index = ['avoid','stay'],\n",
    "                  columns = ['avoid','stay'])\n",
    "plt.figure(figsize = (10,7))\n",
    "sns.heatmap(df_cm, annot=True)\n",
    "print(con_mat2)"
   ]
  },
  {
   "cell_type": "code",
   "execution_count": 15,
   "metadata": {},
   "outputs": [],
   "source": [
    "torch.save(model.state_dict(), \"train_res_fin\")"
   ]
  },
  {
   "cell_type": "code",
   "execution_count": null,
   "metadata": {},
   "outputs": [],
   "source": []
  }
 ],
 "metadata": {
  "kernelspec": {
   "display_name": "Python 3",
   "language": "python",
   "name": "python3"
  },
  "language_info": {
   "codemirror_mode": {
    "name": "ipython",
    "version": 3
   },
   "file_extension": ".py",
   "mimetype": "text/x-python",
   "name": "python",
   "nbconvert_exporter": "python",
   "pygments_lexer": "ipython3",
   "version": "3.7.3"
  }
 },
 "nbformat": 4,
 "nbformat_minor": 2
}
