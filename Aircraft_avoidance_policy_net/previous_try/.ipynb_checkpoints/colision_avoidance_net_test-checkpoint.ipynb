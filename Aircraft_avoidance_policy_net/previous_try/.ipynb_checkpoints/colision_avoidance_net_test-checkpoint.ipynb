{
 "cells": [
  {
   "cell_type": "code",
   "execution_count": 1,
   "metadata": {},
   "outputs": [],
   "source": [
    "import torch\n",
    "import numpy as np\n",
    "import pandas as pd\n",
    "import random\n",
    "import matplotlib\n",
    "import matplotlib.pyplot as plt\n",
    "import torchvision\n",
    "from torch.utils.data import Dataset, DataLoader\n",
    "import torch.nn as nn\n",
    "import torch.nn.functional as F\n",
    "import argparse,os,time\n",
    "import os\n",
    "import time\n",
    "import seaborn as sns\n",
    "# os.environ[\"CUDA_DEVICE_ORDER\"]=\"PCI_BUS_ID\"   \n",
    "# os.environ[\"CUDA_VISIBLE_DEVICES\"]=\"3\"\n",
    "num_gpus=4"
   ]
  },
  {
   "cell_type": "code",
   "execution_count": 2,
   "metadata": {},
   "outputs": [],
   "source": [
    "mean=np.load('mean.npy').tolist()\n",
    "std=np.load('std.npy').tolist()\n",
    "mean_test=np.load('mean_test.npy').tolist()\n",
    "std_test=np.load('std_test.npy').tolist()"
   ]
  },
  {
   "cell_type": "code",
   "execution_count": 3,
   "metadata": {},
   "outputs": [],
   "source": [
    "class CustomDataset(Dataset):\n",
    "    def __init__(self,path):\n",
    "        xy = np.loadtxt(path,\n",
    "                        delimiter=',', dtype=np.float32)\n",
    "        self.len = xy.shape[0]\n",
    "        self.x_data = torch.tensor(xy[:, 0:5])\n",
    "        xy=xy.astype('int_')\n",
    "        self.y_data = torch.tensor(xy[:, 5])\n",
    "\n",
    "    def __getitem__(self, index):\n",
    "        return self.x_data[index], self.y_data[index]\n",
    "\n",
    "    def __len__(self):\n",
    "        return self.len"
   ]
  },
  {
   "cell_type": "code",
   "execution_count": 4,
   "metadata": {},
   "outputs": [],
   "source": [
    "batch_size=300\n",
    "train_dataset = CustomDataset('norm_data_train_uniform_ext.csv')\n",
    "train_loader = DataLoader(dataset=train_dataset,pin_memory=True,\n",
    "                          batch_size=batch_size,\n",
    "                          shuffle=True,\n",
    "                          num_workers=60,drop_last=True)\n",
    "test_dataset = CustomDataset('norm_data_test_uniform_ext.csv')\n",
    "test_loader = DataLoader(dataset=test_dataset,pin_memory=True,\n",
    "                          batch_size=batch_size,\n",
    "                          shuffle=True,\n",
    "                          num_workers=60,drop_last=True)"
   ]
  },
  {
   "cell_type": "code",
   "execution_count": 5,
   "metadata": {},
   "outputs": [],
   "source": [
    "class Modelstr1(torch.nn.Module):\n",
    "    def __init__(self,num_of_nodes):\n",
    "        super(Modelstr1, self).__init__()\n",
    "        self.fc1 = nn.Sequential(\n",
    "            nn.Linear(5,num_of_nodes),\n",
    "            nn.LeakyReLU(0.2, inplace=True)\n",
    "        )   \n",
    "        \n",
    "\n",
    "    def forward(self, x):\n",
    "        out1=self.fc1(x)\n",
    "        return out1\n",
    "    \n",
    "class Modelstr2(torch.nn.Module):\n",
    "    def __init__(self,num_of_nodes,past_nodes):\n",
    "        super(Modelstr2, self).__init__()\n",
    "        self.fc1 = nn.Sequential(\n",
    "            nn.Linear(past_nodes,num_of_nodes),\n",
    "            nn.LeakyReLU(0.2, inplace=True)\n",
    "        )   \n",
    "        \n",
    "\n",
    "    def forward(self, x):\n",
    "        out1=self.fc1(x)\n",
    "        return out1\n",
    "    \n",
    "    \n",
    "    \n",
    "class Model(torch.nn.Module):\n",
    "    def __init__(self,num_of_nodes):\n",
    "        super(Model, self).__init__()\n",
    "        self.fc1 = nn.Sequential(\n",
    "            nn.Linear(num_of_nodes,num_of_nodes),\n",
    "            nn.LeakyReLU(0.2, inplace=True)\n",
    "        )\n",
    "\n",
    "    def forward(self, x):\n",
    "        out1=self.fc1(x)\n",
    "        return out1\n",
    "class Modelfin(torch.nn.Module):\n",
    "    def __init__(self,num_of_nodes):\n",
    "        super(Modelfin, self).__init__()\n",
    "        self.fc1 = nn.Sequential(\n",
    "            nn.Linear(num_of_nodes,3),\n",
    "            nn.LeakyReLU(0.2, inplace=True)\n",
    "        )   \n",
    "        \n",
    "\n",
    "    def forward(self, x):\n",
    "        out1=self.fc1(x)\n",
    "        return out1\n",
    "class Modelinit(torch.nn.Module):\n",
    "    def __init__(self):\n",
    "        super(Modelinit, self).__init__()\n",
    "        \n",
    "\n",
    "    def forward(self, x):\n",
    "        out1=x.view(batch_size//num_gpus,-1)\n",
    "        return out1"
   ]
  },
  {
   "cell_type": "code",
   "execution_count": 6,
   "metadata": {},
   "outputs": [
    {
     "name": "stdout",
     "output_type": "stream",
     "text": [
      "epoch 0, loss 0.05425421893596649, idx 999\n",
      "2020/08/10 18:14:32\n",
      "epoch 1, loss 0.043185487389564514, idx 999\n",
      "2020/08/10 18:15:00\n",
      "epoch 2, loss 0.02817636728286743, idx 999\n",
      "2020/08/10 18:15:28\n",
      "epoch 3, loss 0.11109045892953873, idx 999\n",
      "2020/08/10 18:15:57\n",
      "epoch 4, loss 0.04126189276576042, idx 999\n",
      "2020/08/10 18:16:25\n",
      "epoch 5, loss 0.034717973321676254, idx 999\n",
      "2020/08/10 18:16:53\n",
      "epoch 6, loss 0.05313784256577492, idx 999\n",
      "2020/08/10 18:17:21\n",
      "epoch 7, loss 0.012801585718989372, idx 999\n",
      "2020/08/10 18:17:49\n",
      "epoch 8, loss 0.028921708464622498, idx 999\n",
      "2020/08/10 18:18:17\n",
      "epoch 9, loss 0.025396153330802917, idx 999\n",
      "2020/08/10 18:18:45\n",
      "epoch 10, loss 0.015351926907896996, idx 999\n",
      "2020/08/10 18:19:14\n",
      "epoch 11, loss 0.03405088931322098, idx 999\n",
      "2020/08/10 18:19:41\n",
      "epoch 12, loss 0.004658568650484085, idx 999\n",
      "2020/08/10 18:20:09\n",
      "epoch 13, loss 0.06339266151189804, idx 999\n",
      "2020/08/10 18:20:38\n",
      "epoch 14, loss 0.05050331726670265, idx 999\n",
      "2020/08/10 18:21:06\n",
      "epoch 15, loss 0.05679851025342941, idx 999\n",
      "2020/08/10 18:21:34\n",
      "epoch 16, loss 0.053028788417577744, idx 999\n",
      "2020/08/10 18:22:02\n",
      "epoch 17, loss 0.010244924575090408, idx 999\n",
      "2020/08/10 18:22:30\n",
      "epoch 18, loss 0.08839212357997894, idx 999\n",
      "2020/08/10 18:22:59\n",
      "epoch 19, loss 0.01944388635456562, idx 999\n",
      "2020/08/10 18:23:26\n",
      "epoch 20, loss 0.0077676852233707905, idx 999\n",
      "2020/08/10 18:23:54\n",
      "epoch 21, loss 0.015134829096496105, idx 999\n",
      "2020/08/10 18:24:22\n",
      "epoch 22, loss 0.025403661653399467, idx 999\n",
      "2020/08/10 18:24:50\n",
      "epoch 23, loss 0.021108629181981087, idx 999\n",
      "2020/08/10 18:25:19\n",
      "epoch 24, loss 0.05036062374711037, idx 999\n",
      "2020/08/10 18:25:47\n",
      "epoch 25, loss 0.012151585891842842, idx 999\n",
      "2020/08/10 18:26:15\n",
      "epoch 26, loss 0.012050914578139782, idx 999\n",
      "2020/08/10 18:26:43\n",
      "epoch 27, loss 0.030669329687952995, idx 999\n",
      "2020/08/10 18:27:11\n",
      "epoch 28, loss 0.030910594388842583, idx 999\n",
      "2020/08/10 18:27:39\n",
      "epoch 29, loss 0.01866512931883335, idx 999\n",
      "2020/08/10 18:28:08\n",
      "epoch 30, loss 0.011766686104238033, idx 999\n",
      "2020/08/10 18:28:36\n",
      "epoch 31, loss 0.012410703115165234, idx 999\n",
      "2020/08/10 18:29:04\n",
      "epoch 32, loss 0.014093686826527119, idx 999\n",
      "2020/08/10 18:29:32\n",
      "epoch 33, loss 0.009312569163739681, idx 999\n",
      "2020/08/10 18:30:00\n",
      "epoch 34, loss 0.03273841738700867, idx 999\n",
      "2020/08/10 18:30:28\n",
      "epoch 35, loss 0.015766218304634094, idx 999\n",
      "2020/08/10 18:30:56\n",
      "epoch 36, loss 0.025746533647179604, idx 999\n",
      "2020/08/10 18:31:24\n",
      "epoch 37, loss 0.013068163767457008, idx 999\n",
      "2020/08/10 18:31:52\n",
      "epoch 38, loss 0.01387408934533596, idx 999\n",
      "2020/08/10 18:32:20\n",
      "epoch 39, loss 0.012631275691092014, idx 999\n",
      "2020/08/10 18:32:48\n",
      "epoch 40, loss 0.008589164353907108, idx 999\n",
      "2020/08/10 18:33:17\n",
      "epoch 41, loss 0.006163547746837139, idx 999\n",
      "2020/08/10 18:33:45\n",
      "epoch 42, loss 0.0077104042284190655, idx 999\n",
      "2020/08/10 18:34:14\n",
      "epoch 43, loss 0.00796108040958643, idx 999\n",
      "2020/08/10 18:34:42\n",
      "epoch 44, loss 0.022974377498030663, idx 999\n",
      "2020/08/10 18:35:10\n",
      "epoch 45, loss 0.012360509485006332, idx 999\n",
      "2020/08/10 18:35:38\n",
      "epoch 46, loss 0.005552090238779783, idx 999\n",
      "2020/08/10 18:36:06\n",
      "epoch 47, loss 0.0029022947419434786, idx 999\n",
      "2020/08/10 18:36:34\n",
      "epoch 48, loss 0.008350021205842495, idx 999\n",
      "2020/08/10 18:37:03\n",
      "epoch 49, loss 0.009460359811782837, idx 999\n",
      "2020/08/10 18:37:31\n",
      "epoch 50, loss 0.010486353188753128, idx 999\n",
      "2020/08/10 18:37:59\n",
      "epoch 51, loss 0.006748013664036989, idx 999\n",
      "2020/08/10 18:38:27\n",
      "epoch 52, loss 0.0268098134547472, idx 999\n",
      "2020/08/10 18:38:56\n",
      "epoch 53, loss 0.004777468275278807, idx 999\n",
      "2020/08/10 18:39:24\n",
      "epoch 54, loss 0.020926641300320625, idx 999\n",
      "2020/08/10 18:39:52\n",
      "epoch 55, loss 0.034058038145303726, idx 999\n",
      "2020/08/10 18:40:21\n",
      "epoch 56, loss 0.025165319442749023, idx 999\n",
      "2020/08/10 18:40:49\n",
      "epoch 57, loss 0.0032529926393181086, idx 999\n",
      "2020/08/10 18:41:17\n",
      "epoch 58, loss 0.0075254617258906364, idx 999\n",
      "2020/08/10 18:41:45\n",
      "epoch 59, loss 0.004232911858707666, idx 999\n",
      "2020/08/10 18:42:14\n",
      "epoch 60, loss 0.019764579832553864, idx 999\n",
      "2020/08/10 18:42:42\n",
      "epoch 61, loss 0.009004996158182621, idx 999\n",
      "2020/08/10 18:43:10\n",
      "epoch 62, loss 0.005855030845850706, idx 999\n",
      "2020/08/10 18:43:38\n",
      "epoch 63, loss 0.005425672512501478, idx 999\n",
      "2020/08/10 18:44:05\n",
      "epoch 64, loss 0.006143562030047178, idx 999\n",
      "2020/08/10 18:44:34\n",
      "epoch 65, loss 0.02081356942653656, idx 999\n",
      "2020/08/10 18:45:02\n",
      "epoch 66, loss 0.016018373891711235, idx 999\n",
      "2020/08/10 18:45:30\n",
      "epoch 67, loss 0.012419547885656357, idx 999\n",
      "2020/08/10 18:45:58\n",
      "epoch 68, loss 0.01429587323218584, idx 999\n",
      "2020/08/10 18:46:26\n",
      "epoch 69, loss 0.008188603445887566, idx 999\n",
      "2020/08/10 18:46:55\n",
      "epoch 70, loss 0.005809563212096691, idx 999\n",
      "2020/08/10 18:47:23\n",
      "epoch 71, loss 0.023722069337964058, idx 999\n",
      "2020/08/10 18:47:51\n",
      "epoch 72, loss 0.009198395535349846, idx 999\n",
      "2020/08/10 18:48:19\n",
      "epoch 73, loss 0.004957877565175295, idx 999\n",
      "2020/08/10 18:48:46\n",
      "epoch 74, loss 0.0013645251747220755, idx 999\n",
      "2020/08/10 18:49:14\n",
      "epoch 75, loss 0.025000516325235367, idx 999\n",
      "2020/08/10 18:49:42\n",
      "epoch 76, loss 0.007857009768486023, idx 999\n",
      "2020/08/10 18:50:09\n",
      "epoch 77, loss 0.017244918271899223, idx 999\n",
      "2020/08/10 18:50:36\n",
      "epoch 78, loss 0.019604701548814774, idx 999\n",
      "2020/08/10 18:51:04\n",
      "epoch 79, loss 0.0024919684510678053, idx 999\n",
      "2020/08/10 18:51:31\n",
      "epoch 80, loss 0.034770071506500244, idx 999\n",
      "2020/08/10 18:51:59\n",
      "epoch 81, loss 0.015279632993042469, idx 999\n",
      "2020/08/10 18:52:26\n",
      "epoch 82, loss 0.004020167980343103, idx 999\n",
      "2020/08/10 18:52:53\n",
      "epoch 83, loss 0.002894277684390545, idx 999\n",
      "2020/08/10 18:53:21\n",
      "epoch 84, loss 0.003304570447653532, idx 999\n",
      "2020/08/10 18:53:49\n",
      "epoch 85, loss 0.003164739580824971, idx 999\n",
      "2020/08/10 18:54:16\n",
      "epoch 86, loss 0.040846992284059525, idx 999\n",
      "2020/08/10 18:54:44\n",
      "epoch 87, loss 0.005379900801926851, idx 999\n",
      "2020/08/10 18:55:12\n",
      "epoch 88, loss 0.008982990868389606, idx 999\n",
      "2020/08/10 18:55:39\n",
      "epoch 89, loss 0.006053504999727011, idx 999\n",
      "2020/08/10 18:56:07\n",
      "epoch 90, loss 0.013007876463234425, idx 999\n",
      "2020/08/10 18:56:34\n",
      "epoch 91, loss 0.011492839083075523, idx 999\n",
      "2020/08/10 18:57:02\n",
      "epoch 92, loss 0.020684778690338135, idx 999\n",
      "2020/08/10 18:57:29\n",
      "epoch 93, loss 0.009053443558514118, idx 999\n",
      "2020/08/10 18:57:57\n",
      "epoch 94, loss 0.003268219530582428, idx 999\n",
      "2020/08/10 18:58:25\n",
      "epoch 95, loss 0.017600897699594498, idx 999\n",
      "2020/08/10 18:58:52\n",
      "epoch 96, loss 0.010685298591852188, idx 999\n",
      "2020/08/10 18:59:19\n",
      "epoch 97, loss 0.01678897812962532, idx 999\n",
      "2020/08/10 18:59:47\n",
      "epoch 98, loss 0.0062781828455626965, idx 999\n",
      "2020/08/10 19:00:15\n",
      "epoch 99, loss 0.0034575050231069326, idx 999\n",
      "2020/08/10 19:00:43\n"
     ]
    }
   ],
   "source": [
    "num_of_lays1=2\n",
    "num_of_nodes1=40\n",
    "num_of_lays2=2\n",
    "num_of_nodes2=40\n",
    "num_of_lays3=2\n",
    "num_of_nodes3=40\n",
    "model_start1=Modelstr1(num_of_nodes1)\n",
    "model_start2=Modelstr2(num_of_nodes2,num_of_nodes1)\n",
    "model_start3=Modelstr2(num_of_nodes3,num_of_nodes2)\n",
    "model_re1=Model(num_of_nodes1)\n",
    "model_re2=Model(num_of_nodes2)\n",
    "model_re3=Model(num_of_nodes3)\n",
    "model_fin=Modelfin(num_of_nodes3)\n",
    "model_temp1=Modelinit()\n",
    "model_temp2=Modelinit()\n",
    "model_temp3=Modelinit()\n",
    "\n",
    "for i in range (num_of_lays1):\n",
    "    model_temp1 = nn.Sequential(model_temp1,model_re1)\n",
    "for i in range (num_of_lays2):\n",
    "    model_temp2=nn.Sequential(model_temp2,model_re2)\n",
    "for i in range (num_of_lays3):\n",
    "    model_temp3=nn.Sequential(model_temp3,model_re3)\n",
    "    \n",
    "model=nn.DataParallel(nn.Sequential(model_start1,model_temp1,model_start2,model_temp2,\n",
    "                                    model_start3,model_temp3,model_fin)).cuda()\n",
    "\n",
    "# model=(nn.Sequential(model_start,model_temp,model_fin)).cuda()   \n",
    "if torch.cuda.is_available():\n",
    "    model.cuda()\n",
    "optimizer = torch.optim.Adam(model.parameters(), lr=1e-3)\n",
    "criterion = nn.CrossEntropyLoss()\n",
    "for epoch in range(100):\n",
    "    for idx, data in enumerate(train_loader, 0):\n",
    "        inputs, labels = data\n",
    "        if torch.cuda.is_available():\n",
    "            inputs=inputs.cuda()\n",
    "            labels=labels.cuda()\n",
    "        output= model(inputs)\n",
    "        optimizer.zero_grad()\n",
    "        loss=criterion(output, labels)\n",
    "        loss.backward()\n",
    "        optimizer.step()\n",
    "    print('epoch {}, loss {}, idx {}'.format(epoch, loss.item(),idx))\n",
    "    now = time.localtime()\n",
    "    print (\"%04d/%02d/%02d %02d:%02d:%02d\" % (now.tm_year, now.tm_mon, now.tm_mday, now.tm_hour, now.tm_min, now.tm_sec))\n"
   ]
  },
  {
   "cell_type": "code",
   "execution_count": 7,
   "metadata": {},
   "outputs": [],
   "source": [
    "target_temp=np.zeros(1)\n",
    "output_temp=np.zeros(1)\n",
    "input_temp=np.zeros((1,5))\n",
    "model.eval()\n",
    "with torch.no_grad():\n",
    "    for data, target in test_loader:\n",
    "        data, target = data.cuda(), target.cuda()\n",
    "        output = model(data)\n",
    "        _, predicted=torch.max(output,1)\n",
    "        target_temp=np.hstack([target_temp,target.cpu().numpy()])\n",
    "        output_temp=np.hstack([output_temp,predicted.cpu().numpy()])\n",
    "        input_temp=np.vstack([input_temp,data.cpu().numpy()])\n",
    "target_temp=np.delete(target_temp,0)\n",
    "output_temp=np.delete(output_temp,0)\n",
    "input_temp=np.delete(input_temp,0,axis=0)"
   ]
  },
  {
   "cell_type": "code",
   "execution_count": 8,
   "metadata": {},
   "outputs": [
    {
     "name": "stdout",
     "output_type": "stream",
     "text": [
      "Accuracy of the network: 99 %\n"
     ]
    }
   ],
   "source": [
    "correct = 0\n",
    "for i in range(len(output_temp)):\n",
    "    correct += (output_temp[i] == target_temp[i])\n",
    "\n",
    "print('Accuracy of the network: %d %%' % (\n",
    "    100 * correct /len(output_temp)))"
   ]
  },
  {
   "cell_type": "code",
   "execution_count": 9,
   "metadata": {},
   "outputs": [
    {
     "name": "stdout",
     "output_type": "stream",
     "text": [
      "Accuracy of the network control down: 99 %\n",
      "Accuracy of the network control stay: 99 %\n",
      "Accuracy of the network control up: 99 %\n"
     ]
    }
   ],
   "source": [
    "correct_d=0\n",
    "tot_d=0\n",
    "correct_u=0\n",
    "tot_u=0\n",
    "correct_s=0\n",
    "tot_s=0\n",
    "for i in range(len(output_temp)):\n",
    "    if(target_temp[i]==1):\n",
    "        correct_d += (output_temp[i] == target_temp[i])\n",
    "        tot_d += 1\n",
    "        \n",
    "    if(target_temp[i]==0):\n",
    "        correct_s += (output_temp[i] == target_temp[i])\n",
    "        tot_s += 1\n",
    "        \n",
    "    if(target_temp[i]==2):\n",
    "        correct_u += (output_temp[i] == target_temp[i])\n",
    "        tot_u += 1\n",
    "\n",
    "print('Accuracy of the network control down: %d %%' % (\n",
    "    100 * correct_d /tot_d))\n",
    "print('Accuracy of the network control stay: %d %%' % (\n",
    "    100 * correct_s /tot_s))\n",
    "print('Accuracy of the network control up: %d %%' % (\n",
    "    100 * correct_u /tot_u))"
   ]
  },
  {
   "cell_type": "code",
   "execution_count": 10,
   "metadata": {},
   "outputs": [
    {
     "data": {
      "text/plain": [
       "0.0"
      ]
     },
     "execution_count": 10,
     "metadata": {},
     "output_type": "execute_result"
    }
   ],
   "source": [
    "con_mat=np.zeros((3,3))\n",
    "con_mat[0,0]"
   ]
  },
  {
   "cell_type": "code",
   "execution_count": 11,
   "metadata": {},
   "outputs": [
    {
     "name": "stdout",
     "output_type": "stream",
     "text": [
      "[[2.9906e+04 9.2000e+01 2.0000e+00]\n",
      " [7.9000e+01 2.9847e+04 7.4000e+01]\n",
      " [2.0500e+02 7.3000e+01 2.9722e+04]]\n"
     ]
    },
    {
     "data": {
      "image/png": "[encoded data removed]",
      "text/plain": [
       "<Figure size 432x288 with 1 Axes>"
      ]
     },
     "metadata": {
      "needs_background": "light"
     },
     "output_type": "display_data"
    }
   ],
   "source": [
    "con_mat=np.zeros((3,3))\n",
    "con_mat2=np.zeros((2,2))\n",
    "tot_d=0\n",
    "tot_u=0\n",
    "tot_s=0\n",
    "for i in range(len(output_temp)):\n",
    "    if(target_temp[i]==1):\n",
    "        tot_d += 1\n",
    "        if (output_temp[i]==1):\n",
    "            con_mat[0,0]+=1\n",
    "        if (output_temp[i]==0):\n",
    "            con_mat[0,1]+=1\n",
    "        if (output_temp[i]==2):\n",
    "            con_mat[0,2]+=1\n",
    "        \n",
    "    if(target_temp[i]==0):\n",
    "        tot_s += 1\n",
    "        if (output_temp[i]==1):\n",
    "            con_mat[1,0]+=1\n",
    "        if (output_temp[i]==0):\n",
    "            con_mat[1,1]+=1\n",
    "        if (output_temp[i]==2):\n",
    "            con_mat[1,2]+=1\n",
    "        \n",
    "    if(target_temp[i]==2):\n",
    "        tot_u += 1\n",
    "        if (output_temp[i]==1):\n",
    "            con_mat[2,0]+=1\n",
    "        if (output_temp[i]==0):\n",
    "            con_mat[2,1]+=1\n",
    "        if (output_temp[i]==2):\n",
    "            con_mat[2,2]+=1\n",
    "        \n",
    "plt.imshow(con_mat,cmap=\"gray\")\n",
    "print(con_mat)\n",
    "con_mat2[0,0]=np.sum(con_mat[0:3:2,0:3:2])\n",
    "con_mat2[0,1]=np.sum(con_mat[0:3:2,1])\n",
    "con_mat2[1,0]=np.sum(con_mat[1,0:3:2])\n",
    "con_mat2[1,1]=np.sum(con_mat[1,1])"
   ]
  },
  {
   "cell_type": "code",
   "execution_count": 12,
   "metadata": {},
   "outputs": [],
   "source": [
    "df_cm = pd.DataFrame(con_mat, index = ['down','stay','up'],\n",
    "                  columns = ['down','stay','up'])"
   ]
  },
  {
   "cell_type": "code",
   "execution_count": 13,
   "metadata": {},
   "outputs": [
    {
     "data": {
      "text/plain": [
       "<matplotlib.axes._subplots.AxesSubplot at 0x7fad9eb2bba8>"
      ]
     },
     "execution_count": 13,
     "metadata": {},
     "output_type": "execute_result"
    },
    {
     "data": {
      "image/png": "[encoded data removed]",
      "text/plain": [
       "<Figure size 720x504 with 2 Axes>"
      ]
     },
     "metadata": {
      "needs_background": "light"
     },
     "output_type": "display_data"
    }
   ],
   "source": [
    "plt.figure(figsize = (10,7))\n",
    "sns.heatmap(df_cm, annot=True)"
   ]
  },
  {
   "cell_type": "code",
   "execution_count": 14,
   "metadata": {},
   "outputs": [
    {
     "name": "stdout",
     "output_type": "stream",
     "text": [
      "[[59835.   165.]\n",
      " [  153. 29847.]]\n"
     ]
    },
    {
     "data": {
      "image/png": "[encoded data removed]",
      "text/plain": [
       "<Figure size 720x504 with 2 Axes>"
      ]
     },
     "metadata": {
      "needs_background": "light"
     },
     "output_type": "display_data"
    }
   ],
   "source": [
    "df_cm = pd.DataFrame(con_mat2, index = ['avoid','stay'],\n",
    "                  columns = ['avoid','stay'])\n",
    "plt.figure(figsize = (10,7))\n",
    "sns.heatmap(df_cm, annot=True)\n",
    "print(con_mat2)"
   ]
  },
  {
   "cell_type": "code",
   "execution_count": 15,
   "metadata": {},
   "outputs": [],
   "source": [
    "torch.save(model.state_dict(), \"train_res\")"
   ]
  },
  {
   "cell_type": "code",
   "execution_count": null,
   "metadata": {},
   "outputs": [],
   "source": []
  }
 ],
 "metadata": {
  "kernelspec": {
   "display_name": "Python 3",
   "language": "python",
   "name": "python3"
  },
  "language_info": {
   "codemirror_mode": {
    "name": "ipython",
    "version": 3
   },
   "file_extension": ".py",
   "mimetype": "text/x-python",
   "name": "python",
   "nbconvert_exporter": "python",
   "pygments_lexer": "ipython3",
   "version": "3.6.7"
  }
 },
 "nbformat": 4,
 "nbformat_minor": 2
}
