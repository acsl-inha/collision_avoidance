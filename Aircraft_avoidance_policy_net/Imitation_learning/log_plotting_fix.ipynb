{
 "cells": [
  {
   "cell_type": "code",
   "execution_count": 1,
   "metadata": {},
   "outputs": [],
   "source": [
    "from glob import glob\n",
    "import os\n",
    "import re\n",
    "import pandas as pd\n",
    "import numpy as np\n",
    "import matplotlib.pyplot as plt"
   ]
  },
  {
   "cell_type": "code",
   "execution_count": 2,
   "metadata": {},
   "outputs": [],
   "source": [
    "log_path=sorted(glob('./res_log/*'))"
   ]
  },
  {
   "cell_type": "code",
   "execution_count": 3,
   "metadata": {},
   "outputs": [],
   "source": [
    "# for log_file in log_path:\n",
    "#     with open(log_file) as f:\n",
    "#         if 'Early' in f.read():\n",
    "#             print(log_file)"
   ]
  },
  {
   "cell_type": "code",
   "execution_count": 4,
   "metadata": {},
   "outputs": [],
   "source": [
    "rx_dict = {\n",
    "    'error_down': re.compile(r'down sim 500: (?P<error_down>.*)\\n'),\n",
    "    'mean_dist': re.compile(r'both up and down: (?P<mean_dist>.*)\\n'),\n",
    "    'error_up': re.compile(r'up sim 500: (?P<error_up>.*)\\n'),\n",
    "    'error_stay': re.compile(r'stay sim 500: (?P<error_stay>.*)\\n'),\n",
    "    'total_params':re.compile(r'Total params: (?P<total_params>.*)\\n'),\n",
    "}"
   ]
  },
  {
   "cell_type": "code",
   "execution_count": 5,
   "metadata": {},
   "outputs": [],
   "source": [
    "def _parse_line(line):\n",
    "    for key, rx in rx_dict.items():\n",
    "        match = rx.search(line)\n",
    "        if match:\n",
    "            return key, match\n",
    "    # if there are no matches\n",
    "    return None, None"
   ]
  },
  {
   "cell_type": "code",
   "execution_count": 6,
   "metadata": {},
   "outputs": [],
   "source": [
    "def parse_file(filepath):\n",
    "\n",
    "    # open the file and read through it line by line\n",
    "    with open(filepath, 'r') as file_object:\n",
    "        line = file_object.readline()\n",
    "        while line:\n",
    "            # at each line check for a match with a regex\n",
    "            key, match = _parse_line(line)\n",
    "\n",
    "            if key == 'error_down':\n",
    "                error_down = match.group('error_down')\n",
    "                error_down=int(error_down)\n",
    "                \n",
    "            if key == 'mean_dist':\n",
    "                mean_dist = match.group('mean_dist')\n",
    "                mean_dist=float(mean_dist)\n",
    "                \n",
    "            if key == 'error_up':\n",
    "                error_up = match.group('error_up')\n",
    "                error_up=int(error_up)\n",
    "                \n",
    "            if key == 'error_stay':\n",
    "                error_stay = match.group('error_stay')\n",
    "                error_stay=int(error_stay)\n",
    "                \n",
    "            if key == 'total_params':\n",
    "                total_params = match.group('total_params')\n",
    "                \n",
    "            line = file_object.readline()\n",
    "            \n",
    "\n",
    "    return [error_down,error_up,error_stay,mean_dist,total_params]"
   ]
  },
  {
   "cell_type": "code",
   "execution_count": 7,
   "metadata": {},
   "outputs": [],
   "source": [
    "res_list=[]\n",
    "for path in log_path:\n",
    "    _log=parse_file(path)\n",
    "    if len(os.path.basename(path).split(\"_\"))==7:\n",
    "        int_path=[''.join(os.path.basename(path).split(\"_\")[:6])]\n",
    "    else:\n",
    "        int_path=[''.join(os.path.splitext(os.path.basename(path))[0].split(\"_\"))]\n",
    "    int_path=int(int_path[0])\n",
    "    _log.append(int_path)\n",
    "    \n",
    "    res_list.append(_log)\n",
    "    "
   ]
  },
  {
   "cell_type": "code",
   "execution_count": 8,
   "metadata": {},
   "outputs": [],
   "source": [
    "res_arr=np.array(res_list)"
   ]
  },
  {
   "cell_type": "code",
   "execution_count": 9,
   "metadata": {},
   "outputs": [],
   "source": [
    "res_df = pd.DataFrame(res_arr, columns=['error_down', 'error_up', 'error_stay', 'mean_dist', 'total_params'\n",
    "                                       , 'file_name'])"
   ]
  },
  {
   "cell_type": "code",
   "execution_count": 10,
   "metadata": {},
   "outputs": [
    {
     "data": {
      "text/html": [
       "<div>\n",
       "<style scoped>\n",
       "    .dataframe tbody tr th:only-of-type {\n",
       "        vertical-align: middle;\n",
       "    }\n",
       "\n",
       "    .dataframe tbody tr th {\n",
       "        vertical-align: top;\n",
       "    }\n",
       "\n",
       "    .dataframe thead th {\n",
       "        text-align: right;\n",
       "    }\n",
       "</style>\n",
       "<table border=\"1\" class=\"dataframe\">\n",
       "  <thead>\n",
       "    <tr style=\"text-align: right;\">\n",
       "      <th></th>\n",
       "      <th>error_down</th>\n",
       "      <th>error_up</th>\n",
       "      <th>error_stay</th>\n",
       "      <th>mean_dist</th>\n",
       "      <th>total_params</th>\n",
       "      <th>file_name</th>\n",
       "    </tr>\n",
       "  </thead>\n",
       "  <tbody>\n",
       "    <tr>\n",
       "      <th>0</th>\n",
       "      <td>0</td>\n",
       "      <td>0</td>\n",
       "      <td>0</td>\n",
       "      <td>137.2223520649639</td>\n",
       "      <td>313</td>\n",
       "      <td>101010111</td>\n",
       "    </tr>\n",
       "    <tr>\n",
       "      <th>1</th>\n",
       "      <td>0</td>\n",
       "      <td>0</td>\n",
       "      <td>0</td>\n",
       "      <td>134.14566820393335</td>\n",
       "      <td>313</td>\n",
       "      <td>101010111</td>\n",
       "    </tr>\n",
       "    <tr>\n",
       "      <th>2</th>\n",
       "      <td>0</td>\n",
       "      <td>0</td>\n",
       "      <td>0</td>\n",
       "      <td>135.36104830422676</td>\n",
       "      <td>313</td>\n",
       "      <td>101010111</td>\n",
       "    </tr>\n",
       "    <tr>\n",
       "      <th>3</th>\n",
       "      <td>0</td>\n",
       "      <td>0</td>\n",
       "      <td>0</td>\n",
       "      <td>134.84112066232808</td>\n",
       "      <td>313</td>\n",
       "      <td>101010111</td>\n",
       "    </tr>\n",
       "    <tr>\n",
       "      <th>4</th>\n",
       "      <td>0</td>\n",
       "      <td>0</td>\n",
       "      <td>1</td>\n",
       "      <td>132.0152592228053</td>\n",
       "      <td>643</td>\n",
       "      <td>101010222</td>\n",
       "    </tr>\n",
       "    <tr>\n",
       "      <th>...</th>\n",
       "      <td>...</td>\n",
       "      <td>...</td>\n",
       "      <td>...</td>\n",
       "      <td>...</td>\n",
       "      <td>...</td>\n",
       "      <td>...</td>\n",
       "    </tr>\n",
       "    <tr>\n",
       "      <th>519</th>\n",
       "      <td>0</td>\n",
       "      <td>0</td>\n",
       "      <td>0</td>\n",
       "      <td>133.2426979011194</td>\n",
       "      <td>13,683</td>\n",
       "      <td>808080111</td>\n",
       "    </tr>\n",
       "    <tr>\n",
       "      <th>520</th>\n",
       "      <td>0</td>\n",
       "      <td>0</td>\n",
       "      <td>0</td>\n",
       "      <td>130.90186270358987</td>\n",
       "      <td>33,123</td>\n",
       "      <td>808080222</td>\n",
       "    </tr>\n",
       "    <tr>\n",
       "      <th>521</th>\n",
       "      <td>0</td>\n",
       "      <td>0</td>\n",
       "      <td>0</td>\n",
       "      <td>132.44833418215222</td>\n",
       "      <td>33,123</td>\n",
       "      <td>808080222</td>\n",
       "    </tr>\n",
       "    <tr>\n",
       "      <th>522</th>\n",
       "      <td>2</td>\n",
       "      <td>0</td>\n",
       "      <td>2</td>\n",
       "      <td>130.8339218679489</td>\n",
       "      <td>33,123</td>\n",
       "      <td>808080222</td>\n",
       "    </tr>\n",
       "    <tr>\n",
       "      <th>523</th>\n",
       "      <td>2</td>\n",
       "      <td>0</td>\n",
       "      <td>0</td>\n",
       "      <td>130.39496998615897</td>\n",
       "      <td>33,123</td>\n",
       "      <td>808080222</td>\n",
       "    </tr>\n",
       "  </tbody>\n",
       "</table>\n",
       "<p>524 rows × 6 columns</p>\n",
       "</div>"
      ],
      "text/plain": [
       "    error_down error_up error_stay           mean_dist total_params  file_name\n",
       "0            0        0          0   137.2223520649639          313  101010111\n",
       "1            0        0          0  134.14566820393335          313  101010111\n",
       "2            0        0          0  135.36104830422676          313  101010111\n",
       "3            0        0          0  134.84112066232808          313  101010111\n",
       "4            0        0          1   132.0152592228053          643  101010222\n",
       "..         ...      ...        ...                 ...          ...        ...\n",
       "519          0        0          0   133.2426979011194       13,683  808080111\n",
       "520          0        0          0  130.90186270358987       33,123  808080222\n",
       "521          0        0          0  132.44833418215222       33,123  808080222\n",
       "522          2        0          2   130.8339218679489       33,123  808080222\n",
       "523          2        0          0  130.39496998615897       33,123  808080222\n",
       "\n",
       "[524 rows x 6 columns]"
      ]
     },
     "execution_count": 10,
     "metadata": {},
     "output_type": "execute_result"
    }
   ],
   "source": [
    "res_df"
   ]
  },
  {
   "cell_type": "code",
   "execution_count": 11,
   "metadata": {},
   "outputs": [],
   "source": [
    "res_df.to_csv(\"res_df.csv\", mode='w')"
   ]
  },
  {
   "cell_type": "code",
   "execution_count": 12,
   "metadata": {},
   "outputs": [],
   "source": [
    "for i in range(len(res_arr)):\n",
    "    res_arr[i,4]=int(res_arr[i,4].replace(',',''))"
   ]
  },
  {
   "cell_type": "code",
   "execution_count": 13,
   "metadata": {},
   "outputs": [],
   "source": [
    "std_temp=res_arr[:,:4].astype(np.float32)\n",
    "std_arr=np.zeros((int(len(res_arr)/4),3))\n",
    "for i in range(0,int(len(res_arr)/4)):\n",
    "    std_arr[i,0]=np.mean(std_temp[4*i:4*(i+1),-1])\n",
    "    std_arr[i,1]=np.std(std_temp[4*i:4*(i+1),-1])\n",
    "    std_arr[i,2]=res_arr[4*i,4]"
   ]
  },
  {
   "cell_type": "code",
   "execution_count": 14,
   "metadata": {},
   "outputs": [],
   "source": [
    "hyper_params=res_arr[::4,-1]\n",
    "std_arr=np.hstack([std_arr,hyper_params.reshape(131,-1)])"
   ]
  },
  {
   "cell_type": "code",
   "execution_count": 15,
   "metadata": {},
   "outputs": [],
   "source": [
    "std_df=pd.DataFrame(std_arr, columns=['mean_mean_dist', 'std_mean_dist', 'num_params','hyper_params'])"
   ]
  },
  {
   "cell_type": "code",
   "execution_count": 16,
   "metadata": {},
   "outputs": [
    {
     "data": {
      "text/html": [
       "<div>\n",
       "<style scoped>\n",
       "    .dataframe tbody tr th:only-of-type {\n",
       "        vertical-align: middle;\n",
       "    }\n",
       "\n",
       "    .dataframe tbody tr th {\n",
       "        vertical-align: top;\n",
       "    }\n",
       "\n",
       "    .dataframe thead th {\n",
       "        text-align: right;\n",
       "    }\n",
       "</style>\n",
       "<table border=\"1\" class=\"dataframe\">\n",
       "  <thead>\n",
       "    <tr style=\"text-align: right;\">\n",
       "      <th></th>\n",
       "      <th>mean_mean_dist</th>\n",
       "      <th>std_mean_dist</th>\n",
       "      <th>num_params</th>\n",
       "      <th>hyper_params</th>\n",
       "    </tr>\n",
       "  </thead>\n",
       "  <tbody>\n",
       "    <tr>\n",
       "      <th>0</th>\n",
       "      <td>135.39254760742188</td>\n",
       "      <td>1.14104425907135</td>\n",
       "      <td>313.0</td>\n",
       "      <td>101010111</td>\n",
       "    </tr>\n",
       "    <tr>\n",
       "      <th>1</th>\n",
       "      <td>131.95924377441406</td>\n",
       "      <td>0.33274754881858826</td>\n",
       "      <td>643.0</td>\n",
       "      <td>101010222</td>\n",
       "    </tr>\n",
       "    <tr>\n",
       "      <th>2</th>\n",
       "      <td>133.3686981201172</td>\n",
       "      <td>0.5499991178512573</td>\n",
       "      <td>1023.0</td>\n",
       "      <td>202020111</td>\n",
       "    </tr>\n",
       "    <tr>\n",
       "      <th>3</th>\n",
       "      <td>132.17578125</td>\n",
       "      <td>0.5294870138168335</td>\n",
       "      <td>2283.0</td>\n",
       "      <td>202020222</td>\n",
       "    </tr>\n",
       "    <tr>\n",
       "      <th>4</th>\n",
       "      <td>133.71481323242188</td>\n",
       "      <td>0.8390873670578003</td>\n",
       "      <td>1503.0</td>\n",
       "      <td>202040111</td>\n",
       "    </tr>\n",
       "    <tr>\n",
       "      <th>...</th>\n",
       "      <td>...</td>\n",
       "      <td>...</td>\n",
       "      <td>...</td>\n",
       "      <td>...</td>\n",
       "    </tr>\n",
       "    <tr>\n",
       "      <th>126</th>\n",
       "      <td>131.50448608398438</td>\n",
       "      <td>0.3806193172931671</td>\n",
       "      <td>24923.0</td>\n",
       "      <td>808040222</td>\n",
       "    </tr>\n",
       "    <tr>\n",
       "      <th>127</th>\n",
       "      <td>133.78826904296875</td>\n",
       "      <td>0.3488175868988037</td>\n",
       "      <td>12003.0</td>\n",
       "      <td>808060111</td>\n",
       "    </tr>\n",
       "    <tr>\n",
       "      <th>128</th>\n",
       "      <td>131.00352478027344</td>\n",
       "      <td>0.5322102904319763</td>\n",
       "      <td>28623.0</td>\n",
       "      <td>808060222</td>\n",
       "    </tr>\n",
       "    <tr>\n",
       "      <th>129</th>\n",
       "      <td>133.6107177734375</td>\n",
       "      <td>0.33318275213241577</td>\n",
       "      <td>13683.0</td>\n",
       "      <td>808080111</td>\n",
       "    </tr>\n",
       "    <tr>\n",
       "      <th>130</th>\n",
       "      <td>131.144775390625</td>\n",
       "      <td>0.7773522734642029</td>\n",
       "      <td>33123.0</td>\n",
       "      <td>808080222</td>\n",
       "    </tr>\n",
       "  </tbody>\n",
       "</table>\n",
       "<p>131 rows × 4 columns</p>\n",
       "</div>"
      ],
      "text/plain": [
       "         mean_mean_dist        std_mean_dist num_params hyper_params\n",
       "0    135.39254760742188     1.14104425907135      313.0    101010111\n",
       "1    131.95924377441406  0.33274754881858826      643.0    101010222\n",
       "2     133.3686981201172   0.5499991178512573     1023.0    202020111\n",
       "3          132.17578125   0.5294870138168335     2283.0    202020222\n",
       "4    133.71481323242188   0.8390873670578003     1503.0    202040111\n",
       "..                  ...                  ...        ...          ...\n",
       "126  131.50448608398438   0.3806193172931671    24923.0    808040222\n",
       "127  133.78826904296875   0.3488175868988037    12003.0    808060111\n",
       "128  131.00352478027344   0.5322102904319763    28623.0    808060222\n",
       "129   133.6107177734375  0.33318275213241577    13683.0    808080111\n",
       "130    131.144775390625   0.7773522734642029    33123.0    808080222\n",
       "\n",
       "[131 rows x 4 columns]"
      ]
     },
     "execution_count": 16,
     "metadata": {},
     "output_type": "execute_result"
    }
   ],
   "source": [
    "std_df"
   ]
  },
  {
   "cell_type": "code",
   "execution_count": 17,
   "metadata": {},
   "outputs": [],
   "source": [
    "std_df.to_csv(\"std_df_fix.csv\", mode='w')"
   ]
  },
  {
   "cell_type": "code",
   "execution_count": 18,
   "metadata": {},
   "outputs": [],
   "source": [
    "compare_table=std_df.values\n",
    "compare_table[:,:-1]=compare_table[:,:-1].astype(np.float32)/np.max(compare_table[:,:-1],axis=0).astype(np.float32)"
   ]
  },
  {
   "cell_type": "code",
   "execution_count": 19,
   "metadata": {},
   "outputs": [
    {
     "data": {
      "text/html": [
       "<div>\n",
       "<style scoped>\n",
       "    .dataframe tbody tr th:only-of-type {\n",
       "        vertical-align: middle;\n",
       "    }\n",
       "\n",
       "    .dataframe tbody tr th {\n",
       "        vertical-align: top;\n",
       "    }\n",
       "\n",
       "    .dataframe thead th {\n",
       "        text-align: right;\n",
       "    }\n",
       "</style>\n",
       "<table border=\"1\" class=\"dataframe\">\n",
       "  <thead>\n",
       "    <tr style=\"text-align: right;\">\n",
       "      <th></th>\n",
       "      <th>mean_mean_dist</th>\n",
       "      <th>std_mean_dist</th>\n",
       "      <th>num_params</th>\n",
       "      <th>hyper_params</th>\n",
       "    </tr>\n",
       "  </thead>\n",
       "  <tbody>\n",
       "    <tr>\n",
       "      <th>0</th>\n",
       "      <td>0.986999</td>\n",
       "      <td>0.959636</td>\n",
       "      <td>0.0316066</td>\n",
       "      <td>101010111</td>\n",
       "    </tr>\n",
       "    <tr>\n",
       "      <th>1</th>\n",
       "      <td>0.96197</td>\n",
       "      <td>0.279846</td>\n",
       "      <td>0.0649298</td>\n",
       "      <td>101010222</td>\n",
       "    </tr>\n",
       "    <tr>\n",
       "      <th>2</th>\n",
       "      <td>0.972245</td>\n",
       "      <td>0.462558</td>\n",
       "      <td>0.103302</td>\n",
       "      <td>202020111</td>\n",
       "    </tr>\n",
       "    <tr>\n",
       "      <th>3</th>\n",
       "      <td>0.963549</td>\n",
       "      <td>0.445307</td>\n",
       "      <td>0.230536</td>\n",
       "      <td>202020222</td>\n",
       "    </tr>\n",
       "    <tr>\n",
       "      <th>4</th>\n",
       "      <td>0.974768</td>\n",
       "      <td>0.705685</td>\n",
       "      <td>0.151772</td>\n",
       "      <td>202040111</td>\n",
       "    </tr>\n",
       "    <tr>\n",
       "      <th>...</th>\n",
       "      <td>...</td>\n",
       "      <td>...</td>\n",
       "      <td>...</td>\n",
       "      <td>...</td>\n",
       "    </tr>\n",
       "    <tr>\n",
       "      <th>126</th>\n",
       "      <td>0.958655</td>\n",
       "      <td>0.320107</td>\n",
       "      <td>2.51671</td>\n",
       "      <td>808040222</td>\n",
       "    </tr>\n",
       "    <tr>\n",
       "      <th>127</th>\n",
       "      <td>0.975304</td>\n",
       "      <td>0.293361</td>\n",
       "      <td>1.21206</td>\n",
       "      <td>808060111</td>\n",
       "    </tr>\n",
       "    <tr>\n",
       "      <th>128</th>\n",
       "      <td>0.955003</td>\n",
       "      <td>0.447597</td>\n",
       "      <td>2.89034</td>\n",
       "      <td>808060222</td>\n",
       "    </tr>\n",
       "    <tr>\n",
       "      <th>129</th>\n",
       "      <td>0.974009</td>\n",
       "      <td>0.280212</td>\n",
       "      <td>1.3817</td>\n",
       "      <td>808080111</td>\n",
       "    </tr>\n",
       "    <tr>\n",
       "      <th>130</th>\n",
       "      <td>0.956033</td>\n",
       "      <td>0.653765</td>\n",
       "      <td>3.34474</td>\n",
       "      <td>808080222</td>\n",
       "    </tr>\n",
       "  </tbody>\n",
       "</table>\n",
       "<p>131 rows × 4 columns</p>\n",
       "</div>"
      ],
      "text/plain": [
       "    mean_mean_dist std_mean_dist num_params hyper_params\n",
       "0         0.986999      0.959636  0.0316066    101010111\n",
       "1          0.96197      0.279846  0.0649298    101010222\n",
       "2         0.972245      0.462558   0.103302    202020111\n",
       "3         0.963549      0.445307   0.230536    202020222\n",
       "4         0.974768      0.705685   0.151772    202040111\n",
       "..             ...           ...        ...          ...\n",
       "126       0.958655      0.320107    2.51671    808040222\n",
       "127       0.975304      0.293361    1.21206    808060111\n",
       "128       0.955003      0.447597    2.89034    808060222\n",
       "129       0.974009      0.280212     1.3817    808080111\n",
       "130       0.956033      0.653765    3.34474    808080222\n",
       "\n",
       "[131 rows x 4 columns]"
      ]
     },
     "execution_count": 19,
     "metadata": {},
     "output_type": "execute_result"
    }
   ],
   "source": [
    "compare_df=pd.DataFrame(compare_table, columns=['mean_mean_dist', 'std_mean_dist', 'num_params','hyper_params'])\n",
    "compare_df"
   ]
  },
  {
   "cell_type": "code",
   "execution_count": 20,
   "metadata": {},
   "outputs": [],
   "source": [
    "compare_df.to_csv(\"compare_df_fix.csv\", mode='w')"
   ]
  },
  {
   "cell_type": "code",
   "execution_count": 21,
   "metadata": {},
   "outputs": [],
   "source": [
    "compare_sum=compare_table[:,0]*0.8+1/compare_table[:,1]*0.1+compare_table[:,-2]*0.1"
   ]
  },
  {
   "cell_type": "code",
   "execution_count": 22,
   "metadata": {},
   "outputs": [
    {
     "data": {
      "text/html": [
       "<div>\n",
       "<style scoped>\n",
       "    .dataframe tbody tr th:only-of-type {\n",
       "        vertical-align: middle;\n",
       "    }\n",
       "\n",
       "    .dataframe tbody tr th {\n",
       "        vertical-align: top;\n",
       "    }\n",
       "\n",
       "    .dataframe thead th {\n",
       "        text-align: right;\n",
       "    }\n",
       "</style>\n",
       "<table border=\"1\" class=\"dataframe\">\n",
       "  <thead>\n",
       "    <tr style=\"text-align: right;\">\n",
       "      <th></th>\n",
       "      <th>compare_sum</th>\n",
       "      <th>hyper_params</th>\n",
       "    </tr>\n",
       "  </thead>\n",
       "  <tbody>\n",
       "    <tr>\n",
       "      <th>0</th>\n",
       "      <td>0.896966</td>\n",
       "      <td>101010111</td>\n",
       "    </tr>\n",
       "    <tr>\n",
       "      <th>1</th>\n",
       "      <td>1.13341</td>\n",
       "      <td>101010222</td>\n",
       "    </tr>\n",
       "    <tr>\n",
       "      <th>2</th>\n",
       "      <td>1.00432</td>\n",
       "      <td>202020111</td>\n",
       "    </tr>\n",
       "    <tr>\n",
       "      <th>3</th>\n",
       "      <td>1.01846</td>\n",
       "      <td>202020222</td>\n",
       "    </tr>\n",
       "    <tr>\n",
       "      <th>4</th>\n",
       "      <td>0.936698</td>\n",
       "      <td>202040111</td>\n",
       "    </tr>\n",
       "    <tr>\n",
       "      <th>...</th>\n",
       "      <td>...</td>\n",
       "      <td>...</td>\n",
       "    </tr>\n",
       "    <tr>\n",
       "      <th>126</th>\n",
       "      <td>1.33099</td>\n",
       "      <td>808040222</td>\n",
       "    </tr>\n",
       "    <tr>\n",
       "      <th>127</th>\n",
       "      <td>1.24233</td>\n",
       "      <td>808060111</td>\n",
       "    </tr>\n",
       "    <tr>\n",
       "      <th>128</th>\n",
       "      <td>1.27645</td>\n",
       "      <td>808060222</td>\n",
       "    </tr>\n",
       "    <tr>\n",
       "      <th>129</th>\n",
       "      <td>1.27425</td>\n",
       "      <td>808080111</td>\n",
       "    </tr>\n",
       "    <tr>\n",
       "      <th>130</th>\n",
       "      <td>1.25226</td>\n",
       "      <td>808080222</td>\n",
       "    </tr>\n",
       "  </tbody>\n",
       "</table>\n",
       "<p>131 rows × 2 columns</p>\n",
       "</div>"
      ],
      "text/plain": [
       "    compare_sum hyper_params\n",
       "0      0.896966    101010111\n",
       "1       1.13341    101010222\n",
       "2       1.00432    202020111\n",
       "3       1.01846    202020222\n",
       "4      0.936698    202040111\n",
       "..          ...          ...\n",
       "126     1.33099    808040222\n",
       "127     1.24233    808060111\n",
       "128     1.27645    808060222\n",
       "129     1.27425    808080111\n",
       "130     1.25226    808080222\n",
       "\n",
       "[131 rows x 2 columns]"
      ]
     },
     "execution_count": 22,
     "metadata": {},
     "output_type": "execute_result"
    }
   ],
   "source": [
    "compare_sum_df=pd.DataFrame(np.array([compare_sum,hyper_params]).T, columns=['compare_sum', 'hyper_params'])\n",
    "compare_sum_df"
   ]
  },
  {
   "cell_type": "code",
   "execution_count": 23,
   "metadata": {},
   "outputs": [],
   "source": [
    "compare_sum_df.to_csv(\"compare_sum_df_fix.csv\", mode='w')"
   ]
  },
  {
   "cell_type": "code",
   "execution_count": 24,
   "metadata": {},
   "outputs": [
    {
     "data": {
      "text/plain": [
       "39"
      ]
     },
     "execution_count": 24,
     "metadata": {},
     "output_type": "execute_result"
    }
   ],
   "source": [
    "np.argmax(compare_sum)"
   ]
  },
  {
   "cell_type": "code",
   "execution_count": 25,
   "metadata": {},
   "outputs": [
    {
     "data": {
      "text/plain": [
       "1.692866095090761"
      ]
     },
     "execution_count": 25,
     "metadata": {},
     "output_type": "execute_result"
    }
   ],
   "source": [
    "compare_sum[39]"
   ]
  },
  {
   "cell_type": "code",
   "execution_count": 26,
   "metadata": {},
   "outputs": [
    {
     "data": {
      "text/plain": [
       "mean_mean_dist     0.961768\n",
       "std_mean_dist      0.118989\n",
       "num_params         0.830354\n",
       "hyper_params      402060222\n",
       "Name: 39, dtype: object"
      ]
     },
     "execution_count": 26,
     "metadata": {},
     "output_type": "execute_result"
    }
   ],
   "source": [
    "std_df.loc[39]"
   ]
  },
  {
   "cell_type": "code",
   "execution_count": 27,
   "metadata": {},
   "outputs": [
    {
     "data": {
      "text/html": [
       "<div>\n",
       "<style scoped>\n",
       "    .dataframe tbody tr th:only-of-type {\n",
       "        vertical-align: middle;\n",
       "    }\n",
       "\n",
       "    .dataframe tbody tr th {\n",
       "        vertical-align: top;\n",
       "    }\n",
       "\n",
       "    .dataframe thead th {\n",
       "        text-align: right;\n",
       "    }\n",
       "</style>\n",
       "<table border=\"1\" class=\"dataframe\">\n",
       "  <thead>\n",
       "    <tr style=\"text-align: right;\">\n",
       "      <th></th>\n",
       "      <th>error_down</th>\n",
       "      <th>error_up</th>\n",
       "      <th>error_stay</th>\n",
       "      <th>mean_dist</th>\n",
       "      <th>total_params</th>\n",
       "      <th>file_name</th>\n",
       "    </tr>\n",
       "  </thead>\n",
       "  <tbody>\n",
       "    <tr>\n",
       "      <th>156</th>\n",
       "      <td>1</td>\n",
       "      <td>0</td>\n",
       "      <td>0</td>\n",
       "      <td>132.10363601408056</td>\n",
       "      <td>8,223</td>\n",
       "      <td>402060222</td>\n",
       "    </tr>\n",
       "    <tr>\n",
       "      <th>157</th>\n",
       "      <td>0</td>\n",
       "      <td>0</td>\n",
       "      <td>0</td>\n",
       "      <td>132.03753583409767</td>\n",
       "      <td>8,223</td>\n",
       "      <td>402060222</td>\n",
       "    </tr>\n",
       "    <tr>\n",
       "      <th>158</th>\n",
       "      <td>0</td>\n",
       "      <td>0</td>\n",
       "      <td>0</td>\n",
       "      <td>131.8071885911475</td>\n",
       "      <td>8,223</td>\n",
       "      <td>402060222</td>\n",
       "    </tr>\n",
       "    <tr>\n",
       "      <th>159</th>\n",
       "      <td>0</td>\n",
       "      <td>0</td>\n",
       "      <td>1</td>\n",
       "      <td>131.77742484187962</td>\n",
       "      <td>8,223</td>\n",
       "      <td>402060222</td>\n",
       "    </tr>\n",
       "  </tbody>\n",
       "</table>\n",
       "</div>"
      ],
      "text/plain": [
       "    error_down error_up error_stay           mean_dist total_params  file_name\n",
       "156          1        0          0  132.10363601408056        8,223  402060222\n",
       "157          0        0          0  132.03753583409767        8,223  402060222\n",
       "158          0        0          0   131.8071885911475        8,223  402060222\n",
       "159          0        0          1  131.77742484187962        8,223  402060222"
      ]
     },
     "execution_count": 27,
     "metadata": {},
     "output_type": "execute_result"
    }
   ],
   "source": [
    "res_df.loc[39*4:40*4-1]"
   ]
  },
  {
   "cell_type": "code",
   "execution_count": 28,
   "metadata": {},
   "outputs": [],
   "source": [
    "num_datas=np.array([300,600,1500,3000,6000,15000,30000,60000,150000,300000])\n",
    "test_accs=np.array([70.73,69.83,90.79,93.47,98.36,98.29,98.26,98.38,97.30,98.53])\n",
    "train_accs=np.array([75.67,79.50,96.87,97.47,99.07,99.31,99.44,99.49,99.48,99.62])"
   ]
  },
  {
   "cell_type": "code",
   "execution_count": 50,
   "metadata": {},
   "outputs": [
    {
     "data": {
      "image/png": "[encoded data removed]",
      "text/plain": [
       "<Figure size 1440x1080 with 1 Axes>"
      ]
     },
     "metadata": {
      "needs_background": "light"
     },
     "output_type": "display_data"
    }
   ],
   "source": [
    "plt.figure(figsize=(20,15))\n",
    "plt.xscale(\"log\")\n",
    "plt.grid()\n",
    "plt.plot(num_datas, test_accs, marker='o',label='test accuracy')\n",
    "plt.plot(num_datas, train_accs, marker='o',label='train accuracy')\n",
    "plt.title(\"Accuracy by number of datas\",fontsize=20)\n",
    "for x,y in zip(num_datas, test_accs): \n",
    "    plt.text(x, y, \"num: {}\\nacc: {}\".format(x, y), fontsize=12)\n",
    "for x,y in zip(num_datas, train_accs): \n",
    "    plt.text(x, y, \"acc: {}\\n\".format(y), fontsize=12)\n",
    "plt.legend(loc='lower right',fontsize=20)\n",
    "plt.show()"
   ]
  },
  {
   "cell_type": "code",
   "execution_count": null,
   "metadata": {},
   "outputs": [],
   "source": []
  }
 ],
 "metadata": {
  "kernelspec": {
   "display_name": "Python 3",
   "language": "python",
   "name": "python3"
  },
  "language_info": {
   "codemirror_mode": {
    "name": "ipython",
    "version": 3
   },
   "file_extension": ".py",
   "mimetype": "text/x-python",
   "name": "python",
   "nbconvert_exporter": "python",
   "pygments_lexer": "ipython3",
   "version": "3.7.3"
  }
 },
 "nbformat": 4,
 "nbformat_minor": 4
}
