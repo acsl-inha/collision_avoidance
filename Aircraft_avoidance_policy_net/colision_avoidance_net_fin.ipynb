{
 "cells": [
  {
   "cell_type": "code",
   "execution_count": 1,
   "metadata": {},
   "outputs": [],
   "source": [
    "import torch\n",
    "import numpy as np\n",
    "import pandas as pd\n",
    "import random\n",
    "import matplotlib\n",
    "import matplotlib.pyplot as plt\n",
    "import torchvision\n",
    "from torch.utils.data import Dataset, DataLoader\n",
    "import torch.nn as nn\n",
    "import torch.nn.functional as F\n",
    "import argparse,os,time\n",
    "import os\n",
    "import time\n",
    "import seaborn as sns\n",
    "# os.environ[\"CUDA_DEVICE_ORDER\"]=\"PCI_BUS_ID\"   \n",
    "# os.environ[\"CUDA_VISIBLE_DEVICES\"]=\"3\"\n",
    "num_gpus=4"
   ]
  },
  {
   "cell_type": "code",
   "execution_count": 2,
   "metadata": {},
   "outputs": [],
   "source": [
    "mean=np.load('mean.npy').tolist()\n",
    "std=np.load('std.npy').tolist()\n",
    "mean_test=np.load('mean_test.npy').tolist()\n",
    "std_test=np.load('std_test.npy').tolist()"
   ]
  },
  {
   "cell_type": "code",
   "execution_count": 3,
   "metadata": {},
   "outputs": [],
   "source": [
    "class CustomDataset(Dataset):\n",
    "    def __init__(self,path):\n",
    "        xy = np.loadtxt(path,\n",
    "                        delimiter=',', dtype=np.float32)\n",
    "        self.len = xy.shape[0]\n",
    "        self.x_data = torch.tensor(xy[:, 0:5])\n",
    "        xy=xy.astype('int_')\n",
    "        self.y_data = torch.tensor(xy[:, 5])\n",
    "\n",
    "    def __getitem__(self, index):\n",
    "        return self.x_data[index], self.y_data[index]\n",
    "\n",
    "    def __len__(self):\n",
    "        return self.len"
   ]
  },
  {
   "cell_type": "code",
   "execution_count": 4,
   "metadata": {},
   "outputs": [],
   "source": [
    "batch_size=300\n",
    "train_dataset = CustomDataset('norm_data_train_uniform_ext.csv')\n",
    "train_loader = DataLoader(dataset=train_dataset,pin_memory=True,\n",
    "                          batch_size=batch_size,\n",
    "                          shuffle=True,\n",
    "                          num_workers=60,drop_last=True)\n",
    "test_dataset = CustomDataset('norm_data_test_uniform_ext.csv')\n",
    "test_loader = DataLoader(dataset=test_dataset,pin_memory=True,\n",
    "                          batch_size=batch_size,\n",
    "                          shuffle=True,\n",
    "                          num_workers=60,drop_last=True)"
   ]
  },
  {
   "cell_type": "code",
   "execution_count": 5,
   "metadata": {},
   "outputs": [],
   "source": [
    "class Model(torch.nn.Module):\n",
    "    def __init__(self):\n",
    "        super(Model, self).__init__()\n",
    "        self.fc = nn.Sequential(\n",
    "            nn.Linear(5, 40),\n",
    "            nn.LeakyReLU(0.2, inplace=True),\n",
    "            nn.Linear(40, 40),\n",
    "            nn.LeakyReLU(0.2, inplace=True),\n",
    "            nn.Linear(40, 40),\n",
    "            nn.LeakyReLU(0.2, inplace=True),\n",
    "            nn.Linear(40, 40),\n",
    "            nn.LeakyReLU(0.2, inplace=True),\n",
    "            nn.Linear(40, 40),\n",
    "            nn.LeakyReLU(0.2, inplace=True),\n",
    "            nn.Linear(40, 40),\n",
    "            nn.LeakyReLU(0.2, inplace=True),\n",
    "            nn.Linear(40, 40),\n",
    "            nn.LeakyReLU(0.2, inplace=True),\n",
    "            nn.Linear(40, 3),\n",
    "            nn.LeakyReLU(0.2, inplace=True)\n",
    "        )\n",
    "\n",
    "    def forward(self, x):\n",
    "        x=x.view(batch_size//num_gpus,-1)\n",
    "        out=self.fc(x)\n",
    "        return out"
   ]
  },
  {
   "cell_type": "code",
   "execution_count": 6,
   "metadata": {},
   "outputs": [
    {
     "name": "stdout",
     "output_type": "stream",
     "text": [
      "epoch 0, loss 0.07548803836107254, idx 999\n",
      "2020/10/01 18:44:29\n",
      "epoch 1, loss 0.061046116054058075, idx 999\n",
      "2020/10/01 18:44:52\n",
      "epoch 2, loss 0.05767739564180374, idx 999\n",
      "2020/10/01 18:45:15\n",
      "epoch 3, loss 0.05809060484170914, idx 999\n",
      "2020/10/01 18:45:38\n",
      "epoch 4, loss 0.03360919654369354, idx 999\n",
      "2020/10/01 18:46:01\n",
      "epoch 5, loss 0.043133217841386795, idx 999\n",
      "2020/10/01 18:46:23\n",
      "epoch 6, loss 0.04338972643017769, idx 999\n",
      "2020/10/01 18:46:45\n",
      "epoch 7, loss 0.014773734845221043, idx 999\n",
      "2020/10/01 18:47:07\n",
      "epoch 8, loss 0.01662008836865425, idx 999\n",
      "2020/10/01 18:47:29\n",
      "epoch 9, loss 0.015952300280332565, idx 999\n",
      "2020/10/01 18:47:52\n",
      "epoch 10, loss 0.02893047034740448, idx 999\n",
      "2020/10/01 18:48:14\n",
      "epoch 11, loss 0.019122038036584854, idx 999\n",
      "2020/10/01 18:48:36\n",
      "epoch 12, loss 0.039676036685705185, idx 999\n",
      "2020/10/01 18:48:59\n",
      "epoch 13, loss 0.05688096955418587, idx 999\n",
      "2020/10/01 18:49:22\n",
      "epoch 14, loss 0.014615971595048904, idx 999\n",
      "2020/10/01 18:49:44\n",
      "epoch 15, loss 0.016732817515730858, idx 999\n",
      "2020/10/01 18:50:07\n",
      "epoch 16, loss 0.00430911872535944, idx 999\n",
      "2020/10/01 18:50:29\n",
      "epoch 17, loss 0.010812587104737759, idx 999\n",
      "2020/10/01 18:50:51\n",
      "epoch 18, loss 0.013505217619240284, idx 999\n",
      "2020/10/01 18:51:14\n",
      "epoch 19, loss 0.02886877954006195, idx 999\n",
      "2020/10/01 18:51:36\n",
      "epoch 20, loss 0.015681641176342964, idx 999\n",
      "2020/10/01 18:51:59\n",
      "epoch 21, loss 0.009479410015046597, idx 999\n",
      "2020/10/01 18:52:21\n",
      "epoch 22, loss 0.0076347957365214825, idx 999\n",
      "2020/10/01 18:52:44\n",
      "epoch 23, loss 0.016612865030765533, idx 999\n",
      "2020/10/01 18:53:07\n",
      "epoch 24, loss 0.01809501089155674, idx 999\n",
      "2020/10/01 18:53:29\n",
      "epoch 25, loss 0.022084876894950867, idx 999\n",
      "2020/10/01 18:53:52\n",
      "epoch 26, loss 0.018287910148501396, idx 999\n",
      "2020/10/01 18:54:14\n",
      "epoch 27, loss 0.028183743357658386, idx 999\n",
      "2020/10/01 18:54:37\n",
      "epoch 28, loss 0.014966670423746109, idx 999\n",
      "2020/10/01 18:54:59\n",
      "epoch 29, loss 0.026863861829042435, idx 999\n",
      "2020/10/01 18:55:22\n",
      "epoch 30, loss 0.0047300830483436584, idx 999\n",
      "2020/10/01 18:55:45\n",
      "epoch 31, loss 0.021429914981126785, idx 999\n",
      "2020/10/01 18:56:07\n",
      "epoch 32, loss 0.026284081861376762, idx 999\n",
      "2020/10/01 18:56:30\n",
      "epoch 33, loss 0.023623013868927956, idx 999\n",
      "2020/10/01 18:56:53\n",
      "epoch 34, loss 0.027704305946826935, idx 999\n",
      "2020/10/01 18:57:15\n",
      "epoch 35, loss 0.02038581296801567, idx 999\n",
      "2020/10/01 18:57:38\n",
      "epoch 36, loss 0.0038706683553755283, idx 999\n",
      "2020/10/01 18:58:01\n",
      "epoch 37, loss 0.033780552446842194, idx 999\n",
      "2020/10/01 18:58:23\n",
      "epoch 38, loss 0.00979505106806755, idx 999\n",
      "2020/10/01 18:58:46\n",
      "epoch 39, loss 0.025052551180124283, idx 999\n",
      "2020/10/01 18:59:08\n",
      "epoch 40, loss 0.011135580018162727, idx 999\n",
      "2020/10/01 18:59:31\n",
      "epoch 41, loss 0.022396771237254143, idx 999\n",
      "2020/10/01 18:59:53\n",
      "epoch 42, loss 0.004673957824707031, idx 999\n",
      "2020/10/01 19:00:16\n",
      "epoch 43, loss 0.025296008214354515, idx 999\n",
      "2020/10/01 19:00:39\n",
      "epoch 44, loss 0.03392595797777176, idx 999\n",
      "2020/10/01 19:01:01\n",
      "epoch 45, loss 0.00791466236114502, idx 999\n",
      "2020/10/01 19:01:24\n",
      "epoch 46, loss 0.009596233256161213, idx 999\n",
      "2020/10/01 19:01:47\n",
      "epoch 47, loss 0.007315254304558039, idx 999\n",
      "2020/10/01 19:02:09\n",
      "epoch 48, loss 0.012039425782859325, idx 999\n",
      "2020/10/01 19:02:32\n",
      "epoch 49, loss 0.041922613978385925, idx 999\n",
      "2020/10/01 19:02:54\n",
      "epoch 50, loss 0.01722271554172039, idx 999\n",
      "2020/10/01 19:03:17\n",
      "epoch 51, loss 0.008132054470479488, idx 999\n",
      "2020/10/01 19:03:39\n",
      "epoch 52, loss 0.014951324090361595, idx 999\n",
      "2020/10/01 19:04:02\n",
      "epoch 53, loss 0.004283529706299305, idx 999\n",
      "2020/10/01 19:04:24\n",
      "epoch 54, loss 0.012496495619416237, idx 999\n",
      "2020/10/01 19:04:46\n",
      "epoch 55, loss 0.031986672431230545, idx 999\n",
      "2020/10/01 19:05:08\n",
      "epoch 56, loss 0.006724216043949127, idx 999\n",
      "2020/10/01 19:05:31\n",
      "epoch 57, loss 0.007643749006092548, idx 999\n",
      "2020/10/01 19:05:54\n",
      "epoch 58, loss 0.003775223158299923, idx 999\n",
      "2020/10/01 19:06:16\n",
      "epoch 59, loss 0.015042508020997047, idx 999\n",
      "2020/10/01 19:06:39\n",
      "epoch 60, loss 0.004381790291517973, idx 999\n",
      "2020/10/01 19:07:01\n",
      "epoch 61, loss 0.024169212207198143, idx 999\n",
      "2020/10/01 19:07:24\n",
      "epoch 62, loss 0.006945199798792601, idx 999\n",
      "2020/10/01 19:07:47\n",
      "epoch 63, loss 0.021261967718601227, idx 999\n",
      "2020/10/01 19:08:09\n",
      "epoch 64, loss 0.029874343425035477, idx 999\n",
      "2020/10/01 19:08:32\n",
      "epoch 65, loss 0.02596885710954666, idx 999\n",
      "2020/10/01 19:08:54\n",
      "epoch 66, loss 0.02001238241791725, idx 999\n",
      "2020/10/01 19:09:17\n",
      "epoch 67, loss 0.014651116915047169, idx 999\n",
      "2020/10/01 19:09:39\n",
      "epoch 68, loss 0.010886448435485363, idx 999\n",
      "2020/10/01 19:10:01\n",
      "epoch 69, loss 0.022110771387815475, idx 999\n",
      "2020/10/01 19:10:24\n",
      "epoch 70, loss 0.014158528298139572, idx 999\n",
      "2020/10/01 19:10:46\n",
      "epoch 71, loss 0.006333556026220322, idx 999\n",
      "2020/10/01 19:11:09\n",
      "epoch 72, loss 0.009933631867170334, idx 999\n",
      "2020/10/01 19:11:32\n",
      "epoch 73, loss 0.006708081346005201, idx 999\n",
      "2020/10/01 19:11:54\n",
      "epoch 74, loss 0.012001595459878445, idx 999\n",
      "2020/10/01 19:12:17\n",
      "epoch 75, loss 0.010343804024159908, idx 999\n",
      "2020/10/01 19:12:39\n",
      "epoch 76, loss 0.025593403726816177, idx 999\n",
      "2020/10/01 19:13:02\n",
      "epoch 77, loss 0.009212983772158623, idx 999\n",
      "2020/10/01 19:13:24\n",
      "epoch 78, loss 0.013835394755005836, idx 999\n",
      "2020/10/01 19:13:47\n",
      "epoch 79, loss 0.01916399411857128, idx 999\n",
      "2020/10/01 19:14:09\n",
      "epoch 80, loss 0.005297878757119179, idx 999\n",
      "2020/10/01 19:14:31\n",
      "epoch 81, loss 0.013600682839751244, idx 999\n",
      "2020/10/01 19:14:54\n",
      "epoch 82, loss 0.005944178905338049, idx 999\n",
      "2020/10/01 19:15:16\n",
      "epoch 83, loss 0.015766965225338936, idx 999\n",
      "2020/10/01 19:15:39\n",
      "epoch 84, loss 0.003388992976397276, idx 999\n",
      "2020/10/01 19:16:01\n",
      "epoch 85, loss 0.02021014876663685, idx 999\n",
      "2020/10/01 19:16:23\n",
      "epoch 86, loss 0.008042538538575172, idx 999\n",
      "2020/10/01 19:16:46\n",
      "epoch 87, loss 0.020476575940847397, idx 999\n",
      "2020/10/01 19:17:08\n",
      "epoch 88, loss 0.00736091285943985, idx 999\n",
      "2020/10/01 19:17:30\n",
      "epoch 89, loss 0.002553070429712534, idx 999\n",
      "2020/10/01 19:17:52\n",
      "epoch 90, loss 0.00470021553337574, idx 999\n",
      "2020/10/01 19:18:15\n",
      "epoch 91, loss 0.01512107253074646, idx 999\n",
      "2020/10/01 19:18:37\n",
      "epoch 92, loss 0.0016771475784480572, idx 999\n",
      "2020/10/01 19:19:00\n",
      "epoch 93, loss 0.007568960078060627, idx 999\n",
      "2020/10/01 19:19:23\n",
      "epoch 94, loss 0.008714448660612106, idx 999\n",
      "2020/10/01 19:19:45\n",
      "epoch 95, loss 0.0015779574168846011, idx 999\n",
      "2020/10/01 19:20:08\n",
      "epoch 96, loss 0.013238749466836452, idx 999\n",
      "2020/10/01 19:20:31\n",
      "epoch 97, loss 0.016907159239053726, idx 999\n",
      "2020/10/01 19:20:53\n",
      "epoch 98, loss 0.0162384994328022, idx 999\n",
      "2020/10/01 19:21:15\n",
      "epoch 99, loss 0.0021805334836244583, idx 999\n",
      "2020/10/01 19:21:38\n"
     ]
    }
   ],
   "source": [
    "model=nn.DataParallel(Model().cuda())\n",
    "\n",
    "# model=(nn.Sequential(model_start,model_temp,model_fin)).cuda()   \n",
    "if torch.cuda.is_available():\n",
    "    model.cuda()\n",
    "optimizer = torch.optim.Adam(model.parameters(), lr=1e-3)\n",
    "criterion = nn.CrossEntropyLoss()\n",
    "for epoch in range(100):\n",
    "    for idx, data in enumerate(train_loader, 0):\n",
    "        inputs, labels = data\n",
    "        if torch.cuda.is_available():\n",
    "            inputs=inputs.cuda()\n",
    "            labels=labels.cuda()\n",
    "        output= model(inputs)\n",
    "        optimizer.zero_grad()\n",
    "        loss=criterion(output, labels)\n",
    "        loss.backward()\n",
    "        optimizer.step()\n",
    "    print('epoch {}, loss {}, idx {}'.format(epoch, loss.item(),idx))\n",
    "    now = time.localtime()\n",
    "    print (\"%04d/%02d/%02d %02d:%02d:%02d\" % (now.tm_year, now.tm_mon, now.tm_mday, now.tm_hour, now.tm_min, now.tm_sec))\n"
   ]
  },
  {
   "cell_type": "code",
   "execution_count": 7,
   "metadata": {},
   "outputs": [],
   "source": [
    "target_temp=np.zeros(1)\n",
    "output_temp=np.zeros(1)\n",
    "input_temp=np.zeros((1,5))\n",
    "model.eval()\n",
    "with torch.no_grad():\n",
    "    for data, target in test_loader:\n",
    "        data, target = data.cuda(), target.cuda()\n",
    "        output = model(data)\n",
    "        _, predicted=torch.max(output,1)\n",
    "        target_temp=np.hstack([target_temp,target.cpu().numpy()])\n",
    "        output_temp=np.hstack([output_temp,predicted.cpu().numpy()])\n",
    "        input_temp=np.vstack([input_temp,data.cpu().numpy()])\n",
    "target_temp=np.delete(target_temp,0)\n",
    "output_temp=np.delete(output_temp,0)\n",
    "input_temp=np.delete(input_temp,0,axis=0)"
   ]
  },
  {
   "cell_type": "code",
   "execution_count": 8,
   "metadata": {},
   "outputs": [
    {
     "name": "stdout",
     "output_type": "stream",
     "text": [
      "Accuracy of the network: 99 %\n"
     ]
    }
   ],
   "source": [
    "correct = 0\n",
    "for i in range(len(output_temp)):\n",
    "    correct += (output_temp[i] == target_temp[i])\n",
    "\n",
    "print('Accuracy of the network: %d %%' % (\n",
    "    100 * correct /len(output_temp)))"
   ]
  },
  {
   "cell_type": "code",
   "execution_count": 9,
   "metadata": {},
   "outputs": [
    {
     "name": "stdout",
     "output_type": "stream",
     "text": [
      "Accuracy of the network control down: 99 %\n",
      "Accuracy of the network control stay: 99 %\n",
      "Accuracy of the network control up: 98 %\n"
     ]
    }
   ],
   "source": [
    "correct_d=0\n",
    "tot_d=0\n",
    "correct_u=0\n",
    "tot_u=0\n",
    "correct_s=0\n",
    "tot_s=0\n",
    "for i in range(len(output_temp)):\n",
    "    if(target_temp[i]==1):\n",
    "        correct_d += (output_temp[i] == target_temp[i])\n",
    "        tot_d += 1\n",
    "        \n",
    "    if(target_temp[i]==0):\n",
    "        correct_s += (output_temp[i] == target_temp[i])\n",
    "        tot_s += 1\n",
    "        \n",
    "    if(target_temp[i]==2):\n",
    "        correct_u += (output_temp[i] == target_temp[i])\n",
    "        tot_u += 1\n",
    "\n",
    "print('Accuracy of the network control down: %d %%' % (\n",
    "    100 * correct_d /tot_d))\n",
    "print('Accuracy of the network control stay: %d %%' % (\n",
    "    100 * correct_s /tot_s))\n",
    "print('Accuracy of the network control up: %d %%' % (\n",
    "    100 * correct_u /tot_u))"
   ]
  },
  {
   "cell_type": "code",
   "execution_count": 10,
   "metadata": {},
   "outputs": [
    {
     "data": {
      "text/plain": [
       "0.0"
      ]
     },
     "execution_count": 10,
     "metadata": {},
     "output_type": "execute_result"
    }
   ],
   "source": [
    "con_mat=np.zeros((3,3))\n",
    "con_mat[0,0]"
   ]
  },
  {
   "cell_type": "code",
   "execution_count": 11,
   "metadata": {},
   "outputs": [
    {
     "name": "stdout",
     "output_type": "stream",
     "text": [
      "[[29900.   100.     0.]\n",
      " [   65. 29874.    61.]\n",
      " [  206.   115. 29679.]]\n"
     ]
    },
    {
     "data": {
      "image/png": "[encoded data removed]",
      "text/plain": [
       "<Figure size 432x288 with 1 Axes>"
      ]
     },
     "metadata": {
      "needs_background": "light"
     },
     "output_type": "display_data"
    }
   ],
   "source": [
    "con_mat=np.zeros((3,3))\n",
    "con_mat2=np.zeros((2,2))\n",
    "tot_d=0\n",
    "tot_u=0\n",
    "tot_s=0\n",
    "for i in range(len(output_temp)):\n",
    "    if(target_temp[i]==1):\n",
    "        tot_d += 1\n",
    "        if (output_temp[i]==1):\n",
    "            con_mat[0,0]+=1\n",
    "        if (output_temp[i]==0):\n",
    "            con_mat[0,1]+=1\n",
    "        if (output_temp[i]==2):\n",
    "            con_mat[0,2]+=1\n",
    "        \n",
    "    if(target_temp[i]==0):\n",
    "        tot_s += 1\n",
    "        if (output_temp[i]==1):\n",
    "            con_mat[1,0]+=1\n",
    "        if (output_temp[i]==0):\n",
    "            con_mat[1,1]+=1\n",
    "        if (output_temp[i]==2):\n",
    "            con_mat[1,2]+=1\n",
    "        \n",
    "    if(target_temp[i]==2):\n",
    "        tot_u += 1\n",
    "        if (output_temp[i]==1):\n",
    "            con_mat[2,0]+=1\n",
    "        if (output_temp[i]==0):\n",
    "            con_mat[2,1]+=1\n",
    "        if (output_temp[i]==2):\n",
    "            con_mat[2,2]+=1\n",
    "        \n",
    "plt.imshow(con_mat,cmap=\"gray\")\n",
    "print(con_mat)\n",
    "con_mat2[0,0]=np.sum(con_mat[0:3:2,0:3:2])\n",
    "con_mat2[0,1]=np.sum(con_mat[0:3:2,1])\n",
    "con_mat2[1,0]=np.sum(con_mat[1,0:3:2])\n",
    "con_mat2[1,1]=np.sum(con_mat[1,1])"
   ]
  },
  {
   "cell_type": "code",
   "execution_count": 12,
   "metadata": {},
   "outputs": [],
   "source": [
    "df_cm = pd.DataFrame(con_mat, index = ['down','stay','up'],\n",
    "                  columns = ['down','stay','up'])"
   ]
  },
  {
   "cell_type": "code",
   "execution_count": 13,
   "metadata": {},
   "outputs": [
    {
     "data": {
      "text/plain": [
       "<matplotlib.axes._subplots.AxesSubplot at 0x7fbf28a52160>"
      ]
     },
     "execution_count": 13,
     "metadata": {},
     "output_type": "execute_result"
    },
    {
     "data": {
      "image/png": "[encoded data removed]",
      "text/plain": [
       "<Figure size 720x504 with 2 Axes>"
      ]
     },
     "metadata": {
      "needs_background": "light"
     },
     "output_type": "display_data"
    }
   ],
   "source": [
    "plt.figure(figsize = (10,7))\n",
    "sns.heatmap(df_cm, annot=True)"
   ]
  },
  {
   "cell_type": "code",
   "execution_count": 14,
   "metadata": {},
   "outputs": [
    {
     "name": "stdout",
     "output_type": "stream",
     "text": [
      "[[59785.   215.]\n",
      " [  126. 29874.]]\n"
     ]
    },
    {
     "data": {
      "image/png": "[encoded data removed]",
      "text/plain": [
       "<Figure size 720x504 with 2 Axes>"
      ]
     },
     "metadata": {
      "needs_background": "light"
     },
     "output_type": "display_data"
    }
   ],
   "source": [
    "df_cm = pd.DataFrame(con_mat2, index = ['avoid','stay'],\n",
    "                  columns = ['avoid','stay'])\n",
    "plt.figure(figsize = (10,7))\n",
    "sns.heatmap(df_cm, annot=True)\n",
    "print(con_mat2)"
   ]
  },
  {
   "cell_type": "code",
   "execution_count": 15,
   "metadata": {},
   "outputs": [],
   "source": [
    "torch.save(model.state_dict(), \"train_res_fin\")"
   ]
  },
  {
   "cell_type": "code",
   "execution_count": null,
   "metadata": {},
   "outputs": [],
   "source": []
  }
 ],
 "metadata": {
  "kernelspec": {
   "display_name": "Python 3",
   "language": "python",
   "name": "python3"
  },
  "language_info": {
   "codemirror_mode": {
    "name": "ipython",
    "version": 3
   },
   "file_extension": ".py",
   "mimetype": "text/x-python",
   "name": "python",
   "nbconvert_exporter": "python",
   "pygments_lexer": "ipython3",
   "version": "3.7.3"
  }
 },
 "nbformat": 4,
 "nbformat_minor": 2
}
