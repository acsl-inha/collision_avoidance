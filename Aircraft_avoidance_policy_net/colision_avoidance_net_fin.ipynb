{
 "cells": [
  {
   "cell_type": "code",
   "execution_count": 1,
   "metadata": {},
   "outputs": [],
   "source": [
    "import torch\n",
    "import numpy as np\n",
    "import pandas as pd\n",
    "import random\n",
    "import matplotlib\n",
    "import matplotlib.pyplot as plt\n",
    "import torchvision\n",
    "from torch.utils.data import Dataset, DataLoader\n",
    "import torch.nn as nn\n",
    "import torch.nn.functional as F\n",
    "import argparse,os,time\n",
    "import os\n",
    "import time\n",
    "import seaborn as sns\n",
    "# os.environ[\"CUDA_DEVICE_ORDER\"]=\"PCI_BUS_ID\"   \n",
    "# os.environ[\"CUDA_VISIBLE_DEVICES\"]=\"3\"\n",
    "num_gpus=4"
   ]
  },
  {
   "cell_type": "code",
   "execution_count": 2,
   "metadata": {},
   "outputs": [],
   "source": [
    "mean=np.load('mean.npy').tolist()\n",
    "std=np.load('std.npy').tolist()\n",
    "mean_test=np.load('mean_test.npy').tolist()\n",
    "std_test=np.load('std_test.npy').tolist()"
   ]
  },
  {
   "cell_type": "code",
   "execution_count": 3,
   "metadata": {},
   "outputs": [],
   "source": [
    "class CustomDataset(Dataset):\n",
    "    def __init__(self,path):\n",
    "        xy = np.loadtxt(path,\n",
    "                        delimiter=',', dtype=np.float32)\n",
    "        self.len = xy.shape[0]\n",
    "        self.x_data = torch.tensor(xy[:, 0:5])\n",
    "        xy=xy.astype('int_')\n",
    "        self.y_data = torch.tensor(xy[:, 5])\n",
    "\n",
    "    def __getitem__(self, index):\n",
    "        return self.x_data[index], self.y_data[index]\n",
    "\n",
    "    def __len__(self):\n",
    "        return self.len"
   ]
  },
  {
   "cell_type": "code",
   "execution_count": 4,
   "metadata": {},
   "outputs": [],
   "source": [
    "batch_size=300\n",
    "train_dataset = CustomDataset('norm_data_train_uniform_ext.csv')\n",
    "train_loader = DataLoader(dataset=train_dataset,pin_memory=True,\n",
    "                          batch_size=batch_size,\n",
    "                          shuffle=True,\n",
    "                          num_workers=60,drop_last=True)\n",
    "test_dataset = CustomDataset('norm_data_test_uniform_ext.csv')\n",
    "test_loader = DataLoader(dataset=test_dataset,pin_memory=True,\n",
    "                          batch_size=batch_size,\n",
    "                          shuffle=True,\n",
    "                          num_workers=60,drop_last=True)"
   ]
  },
  {
   "cell_type": "code",
   "execution_count": 5,
   "metadata": {},
   "outputs": [],
   "source": [
    "class Model(torch.nn.Module):\n",
    "    def __init__(self):\n",
    "        super(Model, self).__init__()\n",
    "        self.fc = nn.Sequential(\n",
    "            nn.Linear(5, 40),\n",
    "            nn.LeakyReLU(0.2, inplace=True),\n",
    "            nn.Linear(40, 40),\n",
    "            nn.LeakyReLU(0.2, inplace=True),\n",
    "            nn.Linear(40, 40),\n",
    "            nn.LeakyReLU(0.2, inplace=True),\n",
    "            nn.Linear(40, 40),\n",
    "            nn.LeakyReLU(0.2, inplace=True),\n",
    "            nn.Linear(40, 40),\n",
    "            nn.LeakyReLU(0.2, inplace=True),\n",
    "            nn.Linear(40, 40),\n",
    "            nn.LeakyReLU(0.2, inplace=True),\n",
    "            nn.Linear(40, 40),\n",
    "            nn.LeakyReLU(0.2, inplace=True),\n",
    "            nn.Linear(40, 3)\n",
    "        )\n",
    "\n",
    "    def forward(self, x):\n",
    "        x=x.view(batch_size//num_gpus,-1)\n",
    "        out=self.fc(x)\n",
    "        return out"
   ]
  },
  {
   "cell_type": "code",
   "execution_count": 6,
   "metadata": {},
   "outputs": [
    {
     "name": "stdout",
     "output_type": "stream",
     "text": [
      "epoch 0, loss 0.042709555476903915, idx 999\n",
      "2020/09/06 13:10:31\n",
      "epoch 1, loss 0.02115369774401188, idx 999\n",
      "2020/09/06 13:10:54\n",
      "epoch 2, loss 0.06704319268465042, idx 999\n",
      "2020/09/06 13:11:17\n",
      "epoch 3, loss 0.01235990785062313, idx 999\n",
      "2020/09/06 13:11:39\n",
      "epoch 4, loss 0.03344801068305969, idx 999\n",
      "2020/09/06 13:12:01\n",
      "epoch 5, loss 0.013616402633488178, idx 999\n",
      "2020/09/06 13:12:24\n",
      "epoch 6, loss 0.034730251878499985, idx 999\n",
      "2020/09/06 13:12:47\n",
      "epoch 7, loss 0.018786173313856125, idx 999\n",
      "2020/09/06 13:13:09\n",
      "epoch 8, loss 0.02982986718416214, idx 999\n",
      "2020/09/06 13:13:32\n",
      "epoch 9, loss 0.09830283373594284, idx 999\n",
      "2020/09/06 13:13:54\n",
      "epoch 10, loss 0.039272092282772064, idx 999\n",
      "2020/09/06 13:14:16\n",
      "epoch 11, loss 0.034220315515995026, idx 999\n",
      "2020/09/06 13:14:39\n",
      "epoch 12, loss 0.039494216442108154, idx 999\n",
      "2020/09/06 13:15:01\n",
      "epoch 13, loss 0.02487114816904068, idx 999\n",
      "2020/09/06 13:15:23\n",
      "epoch 14, loss 0.013402562588453293, idx 999\n",
      "2020/09/06 13:15:46\n",
      "epoch 15, loss 0.03708934411406517, idx 999\n",
      "2020/09/06 13:16:08\n",
      "epoch 16, loss 0.027238305658102036, idx 999\n",
      "2020/09/06 13:16:31\n",
      "epoch 17, loss 0.03621950000524521, idx 999\n",
      "2020/09/06 13:16:53\n",
      "epoch 18, loss 0.03497783839702606, idx 999\n",
      "2020/09/06 13:17:16\n",
      "epoch 19, loss 0.03257017955183983, idx 999\n",
      "2020/09/06 13:17:38\n",
      "epoch 20, loss 0.02708962745964527, idx 999\n",
      "2020/09/06 13:18:01\n",
      "epoch 21, loss 0.0987226739525795, idx 999\n",
      "2020/09/06 13:18:23\n",
      "epoch 22, loss 0.03308078274130821, idx 999\n",
      "2020/09/06 13:18:46\n",
      "epoch 23, loss 0.0772494524717331, idx 999\n",
      "2020/09/06 13:19:08\n",
      "epoch 24, loss 0.026798998937010765, idx 999\n",
      "2020/09/06 13:19:30\n",
      "epoch 25, loss 0.01967722550034523, idx 999\n",
      "2020/09/06 13:19:53\n",
      "epoch 26, loss 0.03588780760765076, idx 999\n",
      "2020/09/06 13:20:16\n",
      "epoch 27, loss 0.033517204225063324, idx 999\n",
      "2020/09/06 13:20:38\n",
      "epoch 28, loss 0.024615880101919174, idx 999\n",
      "2020/09/06 13:21:00\n",
      "epoch 29, loss 0.004924361128360033, idx 999\n",
      "2020/09/06 13:21:22\n",
      "epoch 30, loss 0.011501099914312363, idx 999\n",
      "2020/09/06 13:21:45\n",
      "epoch 31, loss 0.006373783573508263, idx 999\n",
      "2020/09/06 13:22:07\n",
      "epoch 32, loss 0.014016583561897278, idx 999\n",
      "2020/09/06 13:22:29\n",
      "epoch 33, loss 0.016389792785048485, idx 999\n",
      "2020/09/06 13:22:52\n",
      "epoch 34, loss 0.010651656426489353, idx 999\n",
      "2020/09/06 13:23:14\n",
      "epoch 35, loss 0.002751486375927925, idx 999\n",
      "2020/09/06 13:23:37\n",
      "epoch 36, loss 0.009392466396093369, idx 999\n",
      "2020/09/06 13:24:00\n",
      "epoch 37, loss 0.017014862969517708, idx 999\n",
      "2020/09/06 13:24:22\n",
      "epoch 38, loss 0.018319670110940933, idx 999\n",
      "2020/09/06 13:24:44\n",
      "epoch 39, loss 0.0145332096144557, idx 999\n",
      "2020/09/06 13:25:07\n",
      "epoch 40, loss 0.02342783845961094, idx 999\n",
      "2020/09/06 13:25:29\n",
      "epoch 41, loss 0.040695514529943466, idx 999\n",
      "2020/09/06 13:25:51\n",
      "epoch 42, loss 0.023775970563292503, idx 999\n",
      "2020/09/06 13:26:14\n",
      "epoch 43, loss 0.016053158789873123, idx 999\n",
      "2020/09/06 13:26:36\n",
      "epoch 44, loss 0.014487702399492264, idx 999\n",
      "2020/09/06 13:26:59\n",
      "epoch 45, loss 0.007476914674043655, idx 999\n",
      "2020/09/06 13:27:22\n",
      "epoch 46, loss 0.0037647311110049486, idx 999\n",
      "2020/09/06 13:27:44\n",
      "epoch 47, loss 0.009944474324584007, idx 999\n",
      "2020/09/06 13:28:06\n",
      "epoch 48, loss 0.008285638876259327, idx 999\n",
      "2020/09/06 13:28:29\n",
      "epoch 49, loss 0.004117074888199568, idx 999\n",
      "2020/09/06 13:28:51\n",
      "epoch 50, loss 0.027115561068058014, idx 999\n",
      "2020/09/06 13:29:14\n",
      "epoch 51, loss 0.02399885095655918, idx 999\n",
      "2020/09/06 13:29:36\n",
      "epoch 52, loss 0.010465307161211967, idx 999\n",
      "2020/09/06 13:29:58\n",
      "epoch 53, loss 0.010684567503631115, idx 999\n",
      "2020/09/06 13:30:20\n",
      "epoch 54, loss 0.01175426784902811, idx 999\n",
      "2020/09/06 13:30:43\n",
      "epoch 55, loss 0.0052614700980484486, idx 999\n",
      "2020/09/06 13:31:06\n",
      "epoch 56, loss 0.004278282169252634, idx 999\n",
      "2020/09/06 13:31:28\n",
      "epoch 57, loss 0.016245728358626366, idx 999\n",
      "2020/09/06 13:31:51\n",
      "epoch 58, loss 0.00667467201128602, idx 999\n",
      "2020/09/06 13:32:13\n",
      "epoch 59, loss 0.011639508418738842, idx 999\n",
      "2020/09/06 13:32:36\n",
      "epoch 60, loss 0.021757841110229492, idx 999\n",
      "2020/09/06 13:32:59\n",
      "epoch 61, loss 0.01880468614399433, idx 999\n",
      "2020/09/06 13:33:21\n",
      "epoch 62, loss 0.034920062869787216, idx 999\n",
      "2020/09/06 13:33:44\n",
      "epoch 63, loss 0.02996532991528511, idx 999\n",
      "2020/09/06 13:34:07\n",
      "epoch 64, loss 0.02454899065196514, idx 999\n",
      "2020/09/06 13:34:29\n",
      "epoch 65, loss 0.0256569255143404, idx 999\n",
      "2020/09/06 13:34:52\n",
      "epoch 66, loss 0.004298150539398193, idx 999\n",
      "2020/09/06 13:35:15\n",
      "epoch 67, loss 0.006681725382804871, idx 999\n",
      "2020/09/06 13:35:38\n",
      "epoch 68, loss 0.014931561425328255, idx 999\n",
      "2020/09/06 13:36:00\n",
      "epoch 69, loss 0.009358079172670841, idx 999\n",
      "2020/09/06 13:36:23\n",
      "epoch 70, loss 0.003664145478978753, idx 999\n",
      "2020/09/06 13:36:46\n",
      "epoch 71, loss 0.011171328835189342, idx 999\n",
      "2020/09/06 13:37:08\n",
      "epoch 72, loss 0.004621665459126234, idx 999\n",
      "2020/09/06 13:37:31\n",
      "epoch 73, loss 0.01336964126676321, idx 999\n",
      "2020/09/06 13:37:53\n",
      "epoch 74, loss 0.020844999700784683, idx 999\n",
      "2020/09/06 13:38:16\n",
      "epoch 75, loss 0.004051288589835167, idx 999\n",
      "2020/09/06 13:38:39\n",
      "epoch 76, loss 0.015530665405094624, idx 999\n",
      "2020/09/06 13:39:01\n",
      "epoch 77, loss 0.0084996921941638, idx 999\n",
      "2020/09/06 13:39:24\n",
      "epoch 78, loss 0.003799058496952057, idx 999\n",
      "2020/09/06 13:39:47\n",
      "epoch 79, loss 0.026797007769346237, idx 999\n",
      "2020/09/06 13:40:10\n",
      "epoch 80, loss 0.014051038771867752, idx 999\n",
      "2020/09/06 13:40:33\n",
      "epoch 81, loss 0.007131208665668964, idx 999\n",
      "2020/09/06 13:40:55\n",
      "epoch 82, loss 0.019936639815568924, idx 999\n",
      "2020/09/06 13:41:18\n",
      "epoch 83, loss 0.025232063606381416, idx 999\n",
      "2020/09/06 13:41:41\n",
      "epoch 84, loss 0.028036383911967278, idx 999\n",
      "2020/09/06 13:42:04\n",
      "epoch 85, loss 0.0034822733141481876, idx 999\n",
      "2020/09/06 13:42:26\n",
      "epoch 86, loss 0.01434338092803955, idx 999\n",
      "2020/09/06 13:42:49\n",
      "epoch 87, loss 0.01101655513048172, idx 999\n",
      "2020/09/06 13:43:12\n",
      "epoch 88, loss 0.01257215067744255, idx 999\n",
      "2020/09/06 13:43:34\n",
      "epoch 89, loss 0.011017129756510258, idx 999\n",
      "2020/09/06 13:43:57\n",
      "epoch 90, loss 0.020119039341807365, idx 999\n",
      "2020/09/06 13:44:20\n",
      "epoch 91, loss 0.011712638661265373, idx 999\n",
      "2020/09/06 13:44:43\n",
      "epoch 92, loss 0.011790046468377113, idx 999\n",
      "2020/09/06 13:45:07\n",
      "epoch 93, loss 0.011667315848171711, idx 999\n",
      "2020/09/06 13:45:30\n",
      "epoch 94, loss 0.020711854100227356, idx 999\n",
      "2020/09/06 13:45:53\n",
      "epoch 95, loss 0.012048674747347832, idx 999\n",
      "2020/09/06 13:46:16\n",
      "epoch 96, loss 0.0007541005033999681, idx 999\n",
      "2020/09/06 13:46:38\n",
      "epoch 97, loss 0.009987815283238888, idx 999\n",
      "2020/09/06 13:47:01\n",
      "epoch 98, loss 0.013065509498119354, idx 999\n",
      "2020/09/06 13:47:24\n",
      "epoch 99, loss 0.002884357701987028, idx 999\n",
      "2020/09/06 13:47:47\n"
     ]
    }
   ],
   "source": [
    "model=nn.DataParallel(Model().cuda())\n",
    "\n",
    "# model=(nn.Sequential(model_start,model_temp,model_fin)).cuda()   \n",
    "if torch.cuda.is_available():\n",
    "    model.cuda()\n",
    "optimizer = torch.optim.Adam(model.parameters(), lr=1e-3)\n",
    "criterion = nn.CrossEntropyLoss()\n",
    "for epoch in range(100):\n",
    "    for idx, data in enumerate(train_loader, 0):\n",
    "        inputs, labels = data\n",
    "        if torch.cuda.is_available():\n",
    "            inputs=inputs.cuda()\n",
    "            labels=labels.cuda()\n",
    "        output= model(inputs)\n",
    "        optimizer.zero_grad()\n",
    "        loss=criterion(output, labels)\n",
    "        loss.backward()\n",
    "        optimizer.step()\n",
    "    print('epoch {}, loss {}, idx {}'.format(epoch, loss.item(),idx))\n",
    "    now = time.localtime()\n",
    "    print (\"%04d/%02d/%02d %02d:%02d:%02d\" % (now.tm_year, now.tm_mon, now.tm_mday, now.tm_hour, now.tm_min, now.tm_sec))\n"
   ]
  },
  {
   "cell_type": "code",
   "execution_count": 7,
   "metadata": {},
   "outputs": [],
   "source": [
    "target_temp=np.zeros(1)\n",
    "output_temp=np.zeros(1)\n",
    "input_temp=np.zeros((1,5))\n",
    "model.eval()\n",
    "with torch.no_grad():\n",
    "    for data, target in test_loader:\n",
    "        data, target = data.cuda(), target.cuda()\n",
    "        output = model(data)\n",
    "        _, predicted=torch.max(output,1)\n",
    "        target_temp=np.hstack([target_temp,target.cpu().numpy()])\n",
    "        output_temp=np.hstack([output_temp,predicted.cpu().numpy()])\n",
    "        input_temp=np.vstack([input_temp,data.cpu().numpy()])\n",
    "target_temp=np.delete(target_temp,0)\n",
    "output_temp=np.delete(output_temp,0)\n",
    "input_temp=np.delete(input_temp,0,axis=0)"
   ]
  },
  {
   "cell_type": "code",
   "execution_count": 8,
   "metadata": {},
   "outputs": [
    {
     "name": "stdout",
     "output_type": "stream",
     "text": [
      "Accuracy of the network: 99 %\n"
     ]
    }
   ],
   "source": [
    "correct = 0\n",
    "for i in range(len(output_temp)):\n",
    "    correct += (output_temp[i] == target_temp[i])\n",
    "\n",
    "print('Accuracy of the network: %d %%' % (\n",
    "    100 * correct /len(output_temp)))"
   ]
  },
  {
   "cell_type": "code",
   "execution_count": 9,
   "metadata": {},
   "outputs": [
    {
     "name": "stdout",
     "output_type": "stream",
     "text": [
      "Accuracy of the network control down: 99 %\n",
      "Accuracy of the network control stay: 99 %\n",
      "Accuracy of the network control up: 99 %\n"
     ]
    }
   ],
   "source": [
    "correct_d=0\n",
    "tot_d=0\n",
    "correct_u=0\n",
    "tot_u=0\n",
    "correct_s=0\n",
    "tot_s=0\n",
    "for i in range(len(output_temp)):\n",
    "    if(target_temp[i]==1):\n",
    "        correct_d += (output_temp[i] == target_temp[i])\n",
    "        tot_d += 1\n",
    "        \n",
    "    if(target_temp[i]==0):\n",
    "        correct_s += (output_temp[i] == target_temp[i])\n",
    "        tot_s += 1\n",
    "        \n",
    "    if(target_temp[i]==2):\n",
    "        correct_u += (output_temp[i] == target_temp[i])\n",
    "        tot_u += 1\n",
    "\n",
    "print('Accuracy of the network control down: %d %%' % (\n",
    "    100 * correct_d /tot_d))\n",
    "print('Accuracy of the network control stay: %d %%' % (\n",
    "    100 * correct_s /tot_s))\n",
    "print('Accuracy of the network control up: %d %%' % (\n",
    "    100 * correct_u /tot_u))"
   ]
  },
  {
   "cell_type": "code",
   "execution_count": 10,
   "metadata": {},
   "outputs": [
    {
     "data": {
      "text/plain": [
       "0.0"
      ]
     },
     "execution_count": 10,
     "metadata": {},
     "output_type": "execute_result"
    }
   ],
   "source": [
    "con_mat=np.zeros((3,3))\n",
    "con_mat[0,0]"
   ]
  },
  {
   "cell_type": "code",
   "execution_count": 11,
   "metadata": {},
   "outputs": [
    {
     "name": "stdout",
     "output_type": "stream",
     "text": [
      "[[29914.    86.     0.]\n",
      " [   87. 29822.    91.]\n",
      " [  165.   135. 29700.]]\n"
     ]
    },
    {
     "data": {
      "image/png": "[encoded data removed]",
      "text/plain": [
       "<Figure size 432x288 with 1 Axes>"
      ]
     },
     "metadata": {
      "needs_background": "light"
     },
     "output_type": "display_data"
    }
   ],
   "source": [
    "con_mat=np.zeros((3,3))\n",
    "con_mat2=np.zeros((2,2))\n",
    "tot_d=0\n",
    "tot_u=0\n",
    "tot_s=0\n",
    "for i in range(len(output_temp)):\n",
    "    if(target_temp[i]==1):\n",
    "        tot_d += 1\n",
    "        if (output_temp[i]==1):\n",
    "            con_mat[0,0]+=1\n",
    "        if (output_temp[i]==0):\n",
    "            con_mat[0,1]+=1\n",
    "        if (output_temp[i]==2):\n",
    "            con_mat[0,2]+=1\n",
    "        \n",
    "    if(target_temp[i]==0):\n",
    "        tot_s += 1\n",
    "        if (output_temp[i]==1):\n",
    "            con_mat[1,0]+=1\n",
    "        if (output_temp[i]==0):\n",
    "            con_mat[1,1]+=1\n",
    "        if (output_temp[i]==2):\n",
    "            con_mat[1,2]+=1\n",
    "        \n",
    "    if(target_temp[i]==2):\n",
    "        tot_u += 1\n",
    "        if (output_temp[i]==1):\n",
    "            con_mat[2,0]+=1\n",
    "        if (output_temp[i]==0):\n",
    "            con_mat[2,1]+=1\n",
    "        if (output_temp[i]==2):\n",
    "            con_mat[2,2]+=1\n",
    "        \n",
    "plt.imshow(con_mat,cmap=\"gray\")\n",
    "print(con_mat)\n",
    "con_mat2[0,0]=np.sum(con_mat[0:3:2,0:3:2])\n",
    "con_mat2[0,1]=np.sum(con_mat[0:3:2,1])\n",
    "con_mat2[1,0]=np.sum(con_mat[1,0:3:2])\n",
    "con_mat2[1,1]=np.sum(con_mat[1,1])"
   ]
  },
  {
   "cell_type": "code",
   "execution_count": 12,
   "metadata": {},
   "outputs": [],
   "source": [
    "df_cm = pd.DataFrame(con_mat, index = ['down','stay','up'],\n",
    "                  columns = ['down','stay','up'])"
   ]
  },
  {
   "cell_type": "code",
   "execution_count": 13,
   "metadata": {},
   "outputs": [
    {
     "data": {
      "text/plain": [
       "<matplotlib.axes._subplots.AxesSubplot at 0x7fa1f0254f28>"
      ]
     },
     "execution_count": 13,
     "metadata": {},
     "output_type": "execute_result"
    },
    {
     "data": {
      "image/png": "[encoded data removed]",
      "text/plain": [
       "<Figure size 720x504 with 2 Axes>"
      ]
     },
     "metadata": {
      "needs_background": "light"
     },
     "output_type": "display_data"
    }
   ],
   "source": [
    "plt.figure(figsize = (10,7))\n",
    "sns.heatmap(df_cm, annot=True)"
   ]
  },
  {
   "cell_type": "code",
   "execution_count": 14,
   "metadata": {},
   "outputs": [
    {
     "name": "stdout",
     "output_type": "stream",
     "text": [
      "[[59779.   221.]\n",
      " [  178. 29822.]]\n"
     ]
    },
    {
     "data": {
      "image/png": "[encoded data removed]",
      "text/plain": [
       "<Figure size 720x504 with 2 Axes>"
      ]
     },
     "metadata": {
      "needs_background": "light"
     },
     "output_type": "display_data"
    }
   ],
   "source": [
    "df_cm = pd.DataFrame(con_mat2, index = ['avoid','stay'],\n",
    "                  columns = ['avoid','stay'])\n",
    "plt.figure(figsize = (10,7))\n",
    "sns.heatmap(df_cm, annot=True)\n",
    "print(con_mat2)"
   ]
  },
  {
   "cell_type": "code",
   "execution_count": 15,
   "metadata": {},
   "outputs": [],
   "source": [
    "torch.save(model.state_dict(), \"train_res_fin\")"
   ]
  },
  {
   "cell_type": "code",
   "execution_count": null,
   "metadata": {},
   "outputs": [],
   "source": []
  }
 ],
 "metadata": {
  "kernelspec": {
   "display_name": "Python 3",
   "language": "python",
   "name": "python3"
  },
  "language_info": {
   "codemirror_mode": {
    "name": "ipython",
    "version": 3
   },
   "file_extension": ".py",
   "mimetype": "text/x-python",
   "name": "python",
   "nbconvert_exporter": "python",
   "pygments_lexer": "ipython3",
   "version": "3.7.3"
  }
 },
 "nbformat": 4,
 "nbformat_minor": 2
}
