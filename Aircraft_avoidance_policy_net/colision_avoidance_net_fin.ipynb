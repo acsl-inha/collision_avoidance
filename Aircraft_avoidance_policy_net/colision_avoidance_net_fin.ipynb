{
 "cells": [
  {
   "cell_type": "code",
   "execution_count": 1,
   "metadata": {},
   "outputs": [],
   "source": [
    "import torch\n",
    "import numpy as np\n",
    "import pandas as pd\n",
    "import random\n",
    "import matplotlib\n",
    "import matplotlib.pyplot as plt\n",
    "import torchvision\n",
    "from torch.utils.data import Dataset, DataLoader\n",
    "import torch.nn as nn\n",
    "import torch.nn.functional as F\n",
    "import argparse,os,time\n",
    "import os\n",
    "import time\n",
    "import seaborn as sns\n",
    "# os.environ[\"CUDA_DEVICE_ORDER\"]=\"PCI_BUS_ID\"   \n",
    "# os.environ[\"CUDA_VISIBLE_DEVICES\"]=\"3\"\n",
    "num_gpus=4"
   ]
  },
  {
   "cell_type": "code",
   "execution_count": 2,
   "metadata": {},
   "outputs": [],
   "source": [
    "mean=np.load('mean.npy').tolist()\n",
    "std=np.load('std.npy').tolist()\n",
    "mean_test=np.load('mean_test.npy').tolist()\n",
    "std_test=np.load('std_test.npy').tolist()"
   ]
  },
  {
   "cell_type": "code",
   "execution_count": 3,
   "metadata": {},
   "outputs": [],
   "source": [
    "class CustomDataset(Dataset):\n",
    "    def __init__(self,path):\n",
    "        xy = np.loadtxt(path,\n",
    "                        delimiter=',', dtype=np.float32)\n",
    "        self.len = xy.shape[0]\n",
    "        self.x_data = torch.tensor(xy[:, 0:5])\n",
    "        xy=xy.astype('int_')\n",
    "        self.y_data = torch.tensor(xy[:, 5])\n",
    "\n",
    "    def __getitem__(self, index):\n",
    "        return self.x_data[index], self.y_data[index]\n",
    "\n",
    "    def __len__(self):\n",
    "        return self.len"
   ]
  },
  {
   "cell_type": "code",
   "execution_count": 4,
   "metadata": {},
   "outputs": [],
   "source": [
    "batch_size=300\n",
    "train_dataset = CustomDataset('norm_data_train_uniform_ext.csv')\n",
    "train_loader = DataLoader(dataset=train_dataset,pin_memory=True,\n",
    "                          batch_size=batch_size,\n",
    "                          shuffle=True,\n",
    "                          num_workers=60,drop_last=True)\n",
    "test_dataset = CustomDataset('norm_data_test_uniform_ext.csv')\n",
    "test_loader = DataLoader(dataset=test_dataset,pin_memory=True,\n",
    "                          batch_size=batch_size,\n",
    "                          shuffle=True,\n",
    "                          num_workers=60,drop_last=True)"
   ]
  },
  {
   "cell_type": "code",
   "execution_count": 5,
   "metadata": {},
   "outputs": [],
   "source": [
    "class Model(torch.nn.Module):\n",
    "    def __init__(self):\n",
    "        super(Model, self).__init__()\n",
    "        self.fc = nn.Sequential(\n",
    "            nn.Linear(5, 40),\n",
    "            nn.LeakyReLU(0.2, inplace=True),\n",
    "            nn.Linear(40, 40),\n",
    "            nn.LeakyReLU(0.2, inplace=True),\n",
    "            nn.Linear(40, 40),\n",
    "            nn.LeakyReLU(0.2, inplace=True),\n",
    "            nn.Linear(40, 40),\n",
    "            nn.LeakyReLU(0.2, inplace=True),\n",
    "            nn.Linear(40, 40),\n",
    "            nn.LeakyReLU(0.2, inplace=True),\n",
    "            nn.Linear(40, 40),\n",
    "            nn.LeakyReLU(0.2, inplace=True),\n",
    "            nn.Linear(40, 40),\n",
    "            nn.LeakyReLU(0.2, inplace=True),\n",
<<<<<<< HEAD
    "            nn.Linear(40, 3),\n",
    "            nn.LeakyReLU(0.2, inplace=True)\n",
=======
    "            nn.Linear(40, 3)\n",
>>>>>>> 90152b5741bfffca86a725879c34e371b0889190
    "        )\n",
    "\n",
    "    def forward(self, x):\n",
    "        x=x.view(batch_size//num_gpus,-1)\n",
    "        out=self.fc(x)\n",
    "        return out"
   ]
  },
  {
   "cell_type": "code",
   "execution_count": 6,
   "metadata": {},
   "outputs": [
    {
     "name": "stdout",
     "output_type": "stream",
     "text": [
<<<<<<< HEAD
      "epoch 0, loss 0.07548803836107254, idx 999\n",
      "2020/10/01 18:44:29\n",
      "epoch 1, loss 0.061046116054058075, idx 999\n",
      "2020/10/01 18:44:52\n",
      "epoch 2, loss 0.05767739564180374, idx 999\n",
      "2020/10/01 18:45:15\n",
      "epoch 3, loss 0.05809060484170914, idx 999\n",
      "2020/10/01 18:45:38\n",
      "epoch 4, loss 0.03360919654369354, idx 999\n",
      "2020/10/01 18:46:01\n",
      "epoch 5, loss 0.043133217841386795, idx 999\n",
      "2020/10/01 18:46:23\n",
      "epoch 6, loss 0.04338972643017769, idx 999\n",
      "2020/10/01 18:46:45\n",
      "epoch 7, loss 0.014773734845221043, idx 999\n",
      "2020/10/01 18:47:07\n",
      "epoch 8, loss 0.01662008836865425, idx 999\n",
      "2020/10/01 18:47:29\n",
      "epoch 9, loss 0.015952300280332565, idx 999\n",
      "2020/10/01 18:47:52\n",
      "epoch 10, loss 0.02893047034740448, idx 999\n",
      "2020/10/01 18:48:14\n",
      "epoch 11, loss 0.019122038036584854, idx 999\n",
      "2020/10/01 18:48:36\n",
      "epoch 12, loss 0.039676036685705185, idx 999\n",
      "2020/10/01 18:48:59\n",
      "epoch 13, loss 0.05688096955418587, idx 999\n",
      "2020/10/01 18:49:22\n",
      "epoch 14, loss 0.014615971595048904, idx 999\n",
      "2020/10/01 18:49:44\n",
      "epoch 15, loss 0.016732817515730858, idx 999\n",
      "2020/10/01 18:50:07\n",
      "epoch 16, loss 0.00430911872535944, idx 999\n",
      "2020/10/01 18:50:29\n",
      "epoch 17, loss 0.010812587104737759, idx 999\n",
      "2020/10/01 18:50:51\n",
      "epoch 18, loss 0.013505217619240284, idx 999\n",
      "2020/10/01 18:51:14\n",
      "epoch 19, loss 0.02886877954006195, idx 999\n",
      "2020/10/01 18:51:36\n",
      "epoch 20, loss 0.015681641176342964, idx 999\n",
      "2020/10/01 18:51:59\n",
      "epoch 21, loss 0.009479410015046597, idx 999\n",
      "2020/10/01 18:52:21\n",
      "epoch 22, loss 0.0076347957365214825, idx 999\n",
      "2020/10/01 18:52:44\n",
      "epoch 23, loss 0.016612865030765533, idx 999\n",
      "2020/10/01 18:53:07\n",
      "epoch 24, loss 0.01809501089155674, idx 999\n",
      "2020/10/01 18:53:29\n",
      "epoch 25, loss 0.022084876894950867, idx 999\n",
      "2020/10/01 18:53:52\n",
      "epoch 26, loss 0.018287910148501396, idx 999\n",
      "2020/10/01 18:54:14\n",
      "epoch 27, loss 0.028183743357658386, idx 999\n",
      "2020/10/01 18:54:37\n",
      "epoch 28, loss 0.014966670423746109, idx 999\n",
      "2020/10/01 18:54:59\n",
      "epoch 29, loss 0.026863861829042435, idx 999\n",
      "2020/10/01 18:55:22\n",
      "epoch 30, loss 0.0047300830483436584, idx 999\n",
      "2020/10/01 18:55:45\n",
      "epoch 31, loss 0.021429914981126785, idx 999\n",
      "2020/10/01 18:56:07\n",
      "epoch 32, loss 0.026284081861376762, idx 999\n",
      "2020/10/01 18:56:30\n",
      "epoch 33, loss 0.023623013868927956, idx 999\n",
      "2020/10/01 18:56:53\n",
      "epoch 34, loss 0.027704305946826935, idx 999\n",
      "2020/10/01 18:57:15\n",
      "epoch 35, loss 0.02038581296801567, idx 999\n",
      "2020/10/01 18:57:38\n",
      "epoch 36, loss 0.0038706683553755283, idx 999\n",
      "2020/10/01 18:58:01\n",
      "epoch 37, loss 0.033780552446842194, idx 999\n",
      "2020/10/01 18:58:23\n",
      "epoch 38, loss 0.00979505106806755, idx 999\n",
      "2020/10/01 18:58:46\n",
      "epoch 39, loss 0.025052551180124283, idx 999\n",
      "2020/10/01 18:59:08\n",
      "epoch 40, loss 0.011135580018162727, idx 999\n",
      "2020/10/01 18:59:31\n",
      "epoch 41, loss 0.022396771237254143, idx 999\n",
      "2020/10/01 18:59:53\n",
      "epoch 42, loss 0.004673957824707031, idx 999\n",
      "2020/10/01 19:00:16\n",
      "epoch 43, loss 0.025296008214354515, idx 999\n",
      "2020/10/01 19:00:39\n",
      "epoch 44, loss 0.03392595797777176, idx 999\n",
      "2020/10/01 19:01:01\n",
      "epoch 45, loss 0.00791466236114502, idx 999\n",
      "2020/10/01 19:01:24\n",
      "epoch 46, loss 0.009596233256161213, idx 999\n",
      "2020/10/01 19:01:47\n",
      "epoch 47, loss 0.007315254304558039, idx 999\n",
      "2020/10/01 19:02:09\n",
      "epoch 48, loss 0.012039425782859325, idx 999\n",
      "2020/10/01 19:02:32\n",
      "epoch 49, loss 0.041922613978385925, idx 999\n",
      "2020/10/01 19:02:54\n",
      "epoch 50, loss 0.01722271554172039, idx 999\n",
      "2020/10/01 19:03:17\n",
      "epoch 51, loss 0.008132054470479488, idx 999\n",
      "2020/10/01 19:03:39\n",
      "epoch 52, loss 0.014951324090361595, idx 999\n",
      "2020/10/01 19:04:02\n",
      "epoch 53, loss 0.004283529706299305, idx 999\n",
      "2020/10/01 19:04:24\n",
      "epoch 54, loss 0.012496495619416237, idx 999\n",
      "2020/10/01 19:04:46\n",
      "epoch 55, loss 0.031986672431230545, idx 999\n",
      "2020/10/01 19:05:08\n",
      "epoch 56, loss 0.006724216043949127, idx 999\n",
      "2020/10/01 19:05:31\n",
      "epoch 57, loss 0.007643749006092548, idx 999\n",
      "2020/10/01 19:05:54\n",
      "epoch 58, loss 0.003775223158299923, idx 999\n",
      "2020/10/01 19:06:16\n",
      "epoch 59, loss 0.015042508020997047, idx 999\n",
      "2020/10/01 19:06:39\n",
      "epoch 60, loss 0.004381790291517973, idx 999\n",
      "2020/10/01 19:07:01\n",
      "epoch 61, loss 0.024169212207198143, idx 999\n",
      "2020/10/01 19:07:24\n",
      "epoch 62, loss 0.006945199798792601, idx 999\n",
      "2020/10/01 19:07:47\n",
      "epoch 63, loss 0.021261967718601227, idx 999\n",
      "2020/10/01 19:08:09\n",
      "epoch 64, loss 0.029874343425035477, idx 999\n",
      "2020/10/01 19:08:32\n",
      "epoch 65, loss 0.02596885710954666, idx 999\n",
      "2020/10/01 19:08:54\n",
      "epoch 66, loss 0.02001238241791725, idx 999\n",
      "2020/10/01 19:09:17\n",
      "epoch 67, loss 0.014651116915047169, idx 999\n",
      "2020/10/01 19:09:39\n",
      "epoch 68, loss 0.010886448435485363, idx 999\n",
      "2020/10/01 19:10:01\n",
      "epoch 69, loss 0.022110771387815475, idx 999\n",
      "2020/10/01 19:10:24\n",
      "epoch 70, loss 0.014158528298139572, idx 999\n",
      "2020/10/01 19:10:46\n",
      "epoch 71, loss 0.006333556026220322, idx 999\n",
      "2020/10/01 19:11:09\n",
      "epoch 72, loss 0.009933631867170334, idx 999\n",
      "2020/10/01 19:11:32\n",
      "epoch 73, loss 0.006708081346005201, idx 999\n",
      "2020/10/01 19:11:54\n",
      "epoch 74, loss 0.012001595459878445, idx 999\n",
      "2020/10/01 19:12:17\n",
      "epoch 75, loss 0.010343804024159908, idx 999\n",
      "2020/10/01 19:12:39\n",
      "epoch 76, loss 0.025593403726816177, idx 999\n",
      "2020/10/01 19:13:02\n",
      "epoch 77, loss 0.009212983772158623, idx 999\n",
      "2020/10/01 19:13:24\n",
      "epoch 78, loss 0.013835394755005836, idx 999\n",
      "2020/10/01 19:13:47\n",
      "epoch 79, loss 0.01916399411857128, idx 999\n",
      "2020/10/01 19:14:09\n",
      "epoch 80, loss 0.005297878757119179, idx 999\n",
      "2020/10/01 19:14:31\n",
      "epoch 81, loss 0.013600682839751244, idx 999\n",
      "2020/10/01 19:14:54\n",
      "epoch 82, loss 0.005944178905338049, idx 999\n",
      "2020/10/01 19:15:16\n",
      "epoch 83, loss 0.015766965225338936, idx 999\n",
      "2020/10/01 19:15:39\n",
      "epoch 84, loss 0.003388992976397276, idx 999\n",
      "2020/10/01 19:16:01\n",
      "epoch 85, loss 0.02021014876663685, idx 999\n",
      "2020/10/01 19:16:23\n",
      "epoch 86, loss 0.008042538538575172, idx 999\n",
      "2020/10/01 19:16:46\n",
      "epoch 87, loss 0.020476575940847397, idx 999\n",
      "2020/10/01 19:17:08\n",
      "epoch 88, loss 0.00736091285943985, idx 999\n",
      "2020/10/01 19:17:30\n",
      "epoch 89, loss 0.002553070429712534, idx 999\n",
      "2020/10/01 19:17:52\n",
      "epoch 90, loss 0.00470021553337574, idx 999\n",
      "2020/10/01 19:18:15\n",
      "epoch 91, loss 0.01512107253074646, idx 999\n",
      "2020/10/01 19:18:37\n",
      "epoch 92, loss 0.0016771475784480572, idx 999\n",
      "2020/10/01 19:19:00\n",
      "epoch 93, loss 0.007568960078060627, idx 999\n",
      "2020/10/01 19:19:23\n",
      "epoch 94, loss 0.008714448660612106, idx 999\n",
      "2020/10/01 19:19:45\n",
      "epoch 95, loss 0.0015779574168846011, idx 999\n",
      "2020/10/01 19:20:08\n",
      "epoch 96, loss 0.013238749466836452, idx 999\n",
      "2020/10/01 19:20:31\n",
      "epoch 97, loss 0.016907159239053726, idx 999\n",
      "2020/10/01 19:20:53\n",
      "epoch 98, loss 0.0162384994328022, idx 999\n",
      "2020/10/01 19:21:15\n",
      "epoch 99, loss 0.0021805334836244583, idx 999\n",
      "2020/10/01 19:21:38\n"
=======
      "epoch 0, loss 0.042709555476903915, idx 999\n",
      "2020/09/06 13:10:31\n",
      "epoch 1, loss 0.02115369774401188, idx 999\n",
      "2020/09/06 13:10:54\n",
      "epoch 2, loss 0.06704319268465042, idx 999\n",
      "2020/09/06 13:11:17\n",
      "epoch 3, loss 0.01235990785062313, idx 999\n",
      "2020/09/06 13:11:39\n",
      "epoch 4, loss 0.03344801068305969, idx 999\n",
      "2020/09/06 13:12:01\n",
      "epoch 5, loss 0.013616402633488178, idx 999\n",
      "2020/09/06 13:12:24\n",
      "epoch 6, loss 0.034730251878499985, idx 999\n",
      "2020/09/06 13:12:47\n",
      "epoch 7, loss 0.018786173313856125, idx 999\n",
      "2020/09/06 13:13:09\n",
      "epoch 8, loss 0.02982986718416214, idx 999\n",
      "2020/09/06 13:13:32\n",
      "epoch 9, loss 0.09830283373594284, idx 999\n",
      "2020/09/06 13:13:54\n",
      "epoch 10, loss 0.039272092282772064, idx 999\n",
      "2020/09/06 13:14:16\n",
      "epoch 11, loss 0.034220315515995026, idx 999\n",
      "2020/09/06 13:14:39\n",
      "epoch 12, loss 0.039494216442108154, idx 999\n",
      "2020/09/06 13:15:01\n",
      "epoch 13, loss 0.02487114816904068, idx 999\n",
      "2020/09/06 13:15:23\n",
      "epoch 14, loss 0.013402562588453293, idx 999\n",
      "2020/09/06 13:15:46\n",
      "epoch 15, loss 0.03708934411406517, idx 999\n",
      "2020/09/06 13:16:08\n",
      "epoch 16, loss 0.027238305658102036, idx 999\n",
      "2020/09/06 13:16:31\n",
      "epoch 17, loss 0.03621950000524521, idx 999\n",
      "2020/09/06 13:16:53\n",
      "epoch 18, loss 0.03497783839702606, idx 999\n",
      "2020/09/06 13:17:16\n",
      "epoch 19, loss 0.03257017955183983, idx 999\n",
      "2020/09/06 13:17:38\n",
      "epoch 20, loss 0.02708962745964527, idx 999\n",
      "2020/09/06 13:18:01\n",
      "epoch 21, loss 0.0987226739525795, idx 999\n",
      "2020/09/06 13:18:23\n",
      "epoch 22, loss 0.03308078274130821, idx 999\n",
      "2020/09/06 13:18:46\n",
      "epoch 23, loss 0.0772494524717331, idx 999\n",
      "2020/09/06 13:19:08\n",
      "epoch 24, loss 0.026798998937010765, idx 999\n",
      "2020/09/06 13:19:30\n",
      "epoch 25, loss 0.01967722550034523, idx 999\n",
      "2020/09/06 13:19:53\n",
      "epoch 26, loss 0.03588780760765076, idx 999\n",
      "2020/09/06 13:20:16\n",
      "epoch 27, loss 0.033517204225063324, idx 999\n",
      "2020/09/06 13:20:38\n",
      "epoch 28, loss 0.024615880101919174, idx 999\n",
      "2020/09/06 13:21:00\n",
      "epoch 29, loss 0.004924361128360033, idx 999\n",
      "2020/09/06 13:21:22\n",
      "epoch 30, loss 0.011501099914312363, idx 999\n",
      "2020/09/06 13:21:45\n",
      "epoch 31, loss 0.006373783573508263, idx 999\n",
      "2020/09/06 13:22:07\n",
      "epoch 32, loss 0.014016583561897278, idx 999\n",
      "2020/09/06 13:22:29\n",
      "epoch 33, loss 0.016389792785048485, idx 999\n",
      "2020/09/06 13:22:52\n",
      "epoch 34, loss 0.010651656426489353, idx 999\n",
      "2020/09/06 13:23:14\n",
      "epoch 35, loss 0.002751486375927925, idx 999\n",
      "2020/09/06 13:23:37\n",
      "epoch 36, loss 0.009392466396093369, idx 999\n",
      "2020/09/06 13:24:00\n",
      "epoch 37, loss 0.017014862969517708, idx 999\n",
      "2020/09/06 13:24:22\n",
      "epoch 38, loss 0.018319670110940933, idx 999\n",
      "2020/09/06 13:24:44\n",
      "epoch 39, loss 0.0145332096144557, idx 999\n",
      "2020/09/06 13:25:07\n",
      "epoch 40, loss 0.02342783845961094, idx 999\n",
      "2020/09/06 13:25:29\n",
      "epoch 41, loss 0.040695514529943466, idx 999\n",
      "2020/09/06 13:25:51\n",
      "epoch 42, loss 0.023775970563292503, idx 999\n",
      "2020/09/06 13:26:14\n",
      "epoch 43, loss 0.016053158789873123, idx 999\n",
      "2020/09/06 13:26:36\n",
      "epoch 44, loss 0.014487702399492264, idx 999\n",
      "2020/09/06 13:26:59\n",
      "epoch 45, loss 0.007476914674043655, idx 999\n",
      "2020/09/06 13:27:22\n",
      "epoch 46, loss 0.0037647311110049486, idx 999\n",
      "2020/09/06 13:27:44\n",
      "epoch 47, loss 0.009944474324584007, idx 999\n",
      "2020/09/06 13:28:06\n",
      "epoch 48, loss 0.008285638876259327, idx 999\n",
      "2020/09/06 13:28:29\n",
      "epoch 49, loss 0.004117074888199568, idx 999\n",
      "2020/09/06 13:28:51\n",
      "epoch 50, loss 0.027115561068058014, idx 999\n",
      "2020/09/06 13:29:14\n",
      "epoch 51, loss 0.02399885095655918, idx 999\n",
      "2020/09/06 13:29:36\n",
      "epoch 52, loss 0.010465307161211967, idx 999\n",
      "2020/09/06 13:29:58\n",
      "epoch 53, loss 0.010684567503631115, idx 999\n",
      "2020/09/06 13:30:20\n",
      "epoch 54, loss 0.01175426784902811, idx 999\n",
      "2020/09/06 13:30:43\n",
      "epoch 55, loss 0.0052614700980484486, idx 999\n",
      "2020/09/06 13:31:06\n",
      "epoch 56, loss 0.004278282169252634, idx 999\n",
      "2020/09/06 13:31:28\n",
      "epoch 57, loss 0.016245728358626366, idx 999\n",
      "2020/09/06 13:31:51\n",
      "epoch 58, loss 0.00667467201128602, idx 999\n",
      "2020/09/06 13:32:13\n",
      "epoch 59, loss 0.011639508418738842, idx 999\n",
      "2020/09/06 13:32:36\n",
      "epoch 60, loss 0.021757841110229492, idx 999\n",
      "2020/09/06 13:32:59\n",
      "epoch 61, loss 0.01880468614399433, idx 999\n",
      "2020/09/06 13:33:21\n",
      "epoch 62, loss 0.034920062869787216, idx 999\n",
      "2020/09/06 13:33:44\n",
      "epoch 63, loss 0.02996532991528511, idx 999\n",
      "2020/09/06 13:34:07\n",
      "epoch 64, loss 0.02454899065196514, idx 999\n",
      "2020/09/06 13:34:29\n",
      "epoch 65, loss 0.0256569255143404, idx 999\n",
      "2020/09/06 13:34:52\n",
      "epoch 66, loss 0.004298150539398193, idx 999\n",
      "2020/09/06 13:35:15\n",
      "epoch 67, loss 0.006681725382804871, idx 999\n",
      "2020/09/06 13:35:38\n",
      "epoch 68, loss 0.014931561425328255, idx 999\n",
      "2020/09/06 13:36:00\n",
      "epoch 69, loss 0.009358079172670841, idx 999\n",
      "2020/09/06 13:36:23\n",
      "epoch 70, loss 0.003664145478978753, idx 999\n",
      "2020/09/06 13:36:46\n",
      "epoch 71, loss 0.011171328835189342, idx 999\n",
      "2020/09/06 13:37:08\n",
      "epoch 72, loss 0.004621665459126234, idx 999\n",
      "2020/09/06 13:37:31\n",
      "epoch 73, loss 0.01336964126676321, idx 999\n",
      "2020/09/06 13:37:53\n",
      "epoch 74, loss 0.020844999700784683, idx 999\n",
      "2020/09/06 13:38:16\n",
      "epoch 75, loss 0.004051288589835167, idx 999\n",
      "2020/09/06 13:38:39\n",
      "epoch 76, loss 0.015530665405094624, idx 999\n",
      "2020/09/06 13:39:01\n",
      "epoch 77, loss 0.0084996921941638, idx 999\n",
      "2020/09/06 13:39:24\n",
      "epoch 78, loss 0.003799058496952057, idx 999\n",
      "2020/09/06 13:39:47\n",
      "epoch 79, loss 0.026797007769346237, idx 999\n",
      "2020/09/06 13:40:10\n",
      "epoch 80, loss 0.014051038771867752, idx 999\n",
      "2020/09/06 13:40:33\n",
      "epoch 81, loss 0.007131208665668964, idx 999\n",
      "2020/09/06 13:40:55\n",
      "epoch 82, loss 0.019936639815568924, idx 999\n",
      "2020/09/06 13:41:18\n",
      "epoch 83, loss 0.025232063606381416, idx 999\n",
      "2020/09/06 13:41:41\n",
      "epoch 84, loss 0.028036383911967278, idx 999\n",
      "2020/09/06 13:42:04\n",
      "epoch 85, loss 0.0034822733141481876, idx 999\n",
      "2020/09/06 13:42:26\n",
      "epoch 86, loss 0.01434338092803955, idx 999\n",
      "2020/09/06 13:42:49\n",
      "epoch 87, loss 0.01101655513048172, idx 999\n",
      "2020/09/06 13:43:12\n",
      "epoch 88, loss 0.01257215067744255, idx 999\n",
      "2020/09/06 13:43:34\n",
      "epoch 89, loss 0.011017129756510258, idx 999\n",
      "2020/09/06 13:43:57\n",
      "epoch 90, loss 0.020119039341807365, idx 999\n",
      "2020/09/06 13:44:20\n",
      "epoch 91, loss 0.011712638661265373, idx 999\n",
      "2020/09/06 13:44:43\n",
      "epoch 92, loss 0.011790046468377113, idx 999\n",
      "2020/09/06 13:45:07\n",
      "epoch 93, loss 0.011667315848171711, idx 999\n",
      "2020/09/06 13:45:30\n",
      "epoch 94, loss 0.020711854100227356, idx 999\n",
      "2020/09/06 13:45:53\n",
      "epoch 95, loss 0.012048674747347832, idx 999\n",
      "2020/09/06 13:46:16\n",
      "epoch 96, loss 0.0007541005033999681, idx 999\n",
      "2020/09/06 13:46:38\n",
      "epoch 97, loss 0.009987815283238888, idx 999\n",
      "2020/09/06 13:47:01\n",
      "epoch 98, loss 0.013065509498119354, idx 999\n",
      "2020/09/06 13:47:24\n",
      "epoch 99, loss 0.002884357701987028, idx 999\n",
      "2020/09/06 13:47:47\n"
>>>>>>> 90152b5741bfffca86a725879c34e371b0889190
     ]
    }
   ],
   "source": [
    "model=nn.DataParallel(Model().cuda())\n",
    "\n",
    "# model=(nn.Sequential(model_start,model_temp,model_fin)).cuda()   \n",
    "if torch.cuda.is_available():\n",
    "    model.cuda()\n",
    "optimizer = torch.optim.Adam(model.parameters(), lr=1e-3)\n",
    "criterion = nn.CrossEntropyLoss()\n",
    "for epoch in range(100):\n",
    "    for idx, data in enumerate(train_loader, 0):\n",
    "        inputs, labels = data\n",
    "        if torch.cuda.is_available():\n",
    "            inputs=inputs.cuda()\n",
    "            labels=labels.cuda()\n",
    "        output= model(inputs)\n",
    "        optimizer.zero_grad()\n",
    "        loss=criterion(output, labels)\n",
    "        loss.backward()\n",
    "        optimizer.step()\n",
    "    print('epoch {}, loss {}, idx {}'.format(epoch, loss.item(),idx))\n",
    "    now = time.localtime()\n",
    "    print (\"%04d/%02d/%02d %02d:%02d:%02d\" % (now.tm_year, now.tm_mon, now.tm_mday, now.tm_hour, now.tm_min, now.tm_sec))\n"
   ]
  },
  {
   "cell_type": "code",
   "execution_count": 7,
   "metadata": {},
   "outputs": [],
   "source": [
    "target_temp=np.zeros(1)\n",
    "output_temp=np.zeros(1)\n",
    "input_temp=np.zeros((1,5))\n",
    "model.eval()\n",
    "with torch.no_grad():\n",
    "    for data, target in test_loader:\n",
    "        data, target = data.cuda(), target.cuda()\n",
    "        output = model(data)\n",
    "        _, predicted=torch.max(output,1)\n",
    "        target_temp=np.hstack([target_temp,target.cpu().numpy()])\n",
    "        output_temp=np.hstack([output_temp,predicted.cpu().numpy()])\n",
    "        input_temp=np.vstack([input_temp,data.cpu().numpy()])\n",
    "target_temp=np.delete(target_temp,0)\n",
    "output_temp=np.delete(output_temp,0)\n",
    "input_temp=np.delete(input_temp,0,axis=0)"
   ]
  },
  {
   "cell_type": "code",
   "execution_count": 8,
   "metadata": {},
   "outputs": [
    {
     "name": "stdout",
     "output_type": "stream",
     "text": [
      "Accuracy of the network: 99 %\n"
     ]
    }
   ],
   "source": [
    "correct = 0\n",
    "for i in range(len(output_temp)):\n",
    "    correct += (output_temp[i] == target_temp[i])\n",
    "\n",
    "print('Accuracy of the network: %d %%' % (\n",
    "    100 * correct /len(output_temp)))"
   ]
  },
  {
   "cell_type": "code",
   "execution_count": 9,
   "metadata": {},
   "outputs": [
    {
     "name": "stdout",
     "output_type": "stream",
     "text": [
      "Accuracy of the network control down: 99 %\n",
      "Accuracy of the network control stay: 99 %\n",
<<<<<<< HEAD
      "Accuracy of the network control up: 98 %\n"
=======
      "Accuracy of the network control up: 99 %\n"
>>>>>>> 90152b5741bfffca86a725879c34e371b0889190
     ]
    }
   ],
   "source": [
    "correct_d=0\n",
    "tot_d=0\n",
    "correct_u=0\n",
    "tot_u=0\n",
    "correct_s=0\n",
    "tot_s=0\n",
    "for i in range(len(output_temp)):\n",
    "    if(target_temp[i]==1):\n",
    "        correct_d += (output_temp[i] == target_temp[i])\n",
    "        tot_d += 1\n",
    "        \n",
    "    if(target_temp[i]==0):\n",
    "        correct_s += (output_temp[i] == target_temp[i])\n",
    "        tot_s += 1\n",
    "        \n",
    "    if(target_temp[i]==2):\n",
    "        correct_u += (output_temp[i] == target_temp[i])\n",
    "        tot_u += 1\n",
    "\n",
    "print('Accuracy of the network control down: %d %%' % (\n",
    "    100 * correct_d /tot_d))\n",
    "print('Accuracy of the network control stay: %d %%' % (\n",
    "    100 * correct_s /tot_s))\n",
    "print('Accuracy of the network control up: %d %%' % (\n",
    "    100 * correct_u /tot_u))"
   ]
  },
  {
   "cell_type": "code",
   "execution_count": 10,
   "metadata": {},
   "outputs": [
    {
     "data": {
      "text/plain": [
       "0.0"
      ]
     },
     "execution_count": 10,
     "metadata": {},
     "output_type": "execute_result"
    }
   ],
   "source": [
    "con_mat=np.zeros((3,3))\n",
    "con_mat[0,0]"
   ]
  },
  {
   "cell_type": "code",
   "execution_count": 11,
   "metadata": {},
   "outputs": [
    {
     "name": "stdout",
     "output_type": "stream",
     "text": [
<<<<<<< HEAD
      "[[29900.   100.     0.]\n",
      " [   65. 29874.    61.]\n",
      " [  206.   115. 29679.]]\n"
=======
      "[[29914.    86.     0.]\n",
      " [   87. 29822.    91.]\n",
      " [  165.   135. 29700.]]\n"
>>>>>>> 90152b5741bfffca86a725879c34e371b0889190
     ]
    },
    {
     "data": {
<<<<<<< HEAD
      "image/png": "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\n",
=======
      "image/png": "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\n",
>>>>>>> 90152b5741bfffca86a725879c34e371b0889190
      "text/plain": [
       "<Figure size 432x288 with 1 Axes>"
      ]
     },
     "metadata": {
      "needs_background": "light"
     },
     "output_type": "display_data"
    }
   ],
   "source": [
    "con_mat=np.zeros((3,3))\n",
    "con_mat2=np.zeros((2,2))\n",
    "tot_d=0\n",
    "tot_u=0\n",
    "tot_s=0\n",
    "for i in range(len(output_temp)):\n",
    "    if(target_temp[i]==1):\n",
    "        tot_d += 1\n",
    "        if (output_temp[i]==1):\n",
    "            con_mat[0,0]+=1\n",
    "        if (output_temp[i]==0):\n",
    "            con_mat[0,1]+=1\n",
    "        if (output_temp[i]==2):\n",
    "            con_mat[0,2]+=1\n",
    "        \n",
    "    if(target_temp[i]==0):\n",
    "        tot_s += 1\n",
    "        if (output_temp[i]==1):\n",
    "            con_mat[1,0]+=1\n",
    "        if (output_temp[i]==0):\n",
    "            con_mat[1,1]+=1\n",
    "        if (output_temp[i]==2):\n",
    "            con_mat[1,2]+=1\n",
    "        \n",
    "    if(target_temp[i]==2):\n",
    "        tot_u += 1\n",
    "        if (output_temp[i]==1):\n",
    "            con_mat[2,0]+=1\n",
    "        if (output_temp[i]==0):\n",
    "            con_mat[2,1]+=1\n",
    "        if (output_temp[i]==2):\n",
    "            con_mat[2,2]+=1\n",
    "        \n",
    "plt.imshow(con_mat,cmap=\"gray\")\n",
    "print(con_mat)\n",
    "con_mat2[0,0]=np.sum(con_mat[0:3:2,0:3:2])\n",
    "con_mat2[0,1]=np.sum(con_mat[0:3:2,1])\n",
    "con_mat2[1,0]=np.sum(con_mat[1,0:3:2])\n",
    "con_mat2[1,1]=np.sum(con_mat[1,1])"
   ]
  },
  {
   "cell_type": "code",
   "execution_count": 12,
   "metadata": {},
   "outputs": [],
   "source": [
    "df_cm = pd.DataFrame(con_mat, index = ['down','stay','up'],\n",
    "                  columns = ['down','stay','up'])"
   ]
  },
  {
   "cell_type": "code",
   "execution_count": 13,
   "metadata": {},
   "outputs": [
    {
     "data": {
      "text/plain": [
<<<<<<< HEAD
       "<matplotlib.axes._subplots.AxesSubplot at 0x7fbf28a52160>"
=======
       "<matplotlib.axes._subplots.AxesSubplot at 0x7fa1f0254f28>"
>>>>>>> 90152b5741bfffca86a725879c34e371b0889190
      ]
     },
     "execution_count": 13,
     "metadata": {},
     "output_type": "execute_result"
    },
    {
     "data": {
<<<<<<< HEAD
      "image/png": "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\n",
=======
      "image/png": "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\n",
>>>>>>> 90152b5741bfffca86a725879c34e371b0889190
      "text/plain": [
       "<Figure size 720x504 with 2 Axes>"
      ]
     },
     "metadata": {
      "needs_background": "light"
     },
     "output_type": "display_data"
    }
   ],
   "source": [
    "plt.figure(figsize = (10,7))\n",
    "sns.heatmap(df_cm, annot=True)"
   ]
  },
  {
   "cell_type": "code",
   "execution_count": 14,
   "metadata": {},
   "outputs": [
    {
     "name": "stdout",
     "output_type": "stream",
     "text": [
<<<<<<< HEAD
      "[[59785.   215.]\n",
      " [  126. 29874.]]\n"
=======
      "[[59779.   221.]\n",
      " [  178. 29822.]]\n"
>>>>>>> 90152b5741bfffca86a725879c34e371b0889190
     ]
    },
    {
     "data": {
<<<<<<< HEAD
      "image/png": "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\n",
=======
      "image/png": "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\n",
>>>>>>> 90152b5741bfffca86a725879c34e371b0889190
      "text/plain": [
       "<Figure size 720x504 with 2 Axes>"
      ]
     },
     "metadata": {
      "needs_background": "light"
     },
     "output_type": "display_data"
    }
   ],
   "source": [
    "df_cm = pd.DataFrame(con_mat2, index = ['avoid','stay'],\n",
    "                  columns = ['avoid','stay'])\n",
    "plt.figure(figsize = (10,7))\n",
    "sns.heatmap(df_cm, annot=True)\n",
    "print(con_mat2)"
   ]
  },
  {
   "cell_type": "code",
   "execution_count": 15,
   "metadata": {},
   "outputs": [],
   "source": [
    "torch.save(model.state_dict(), \"train_res_fin\")"
   ]
  },
  {
   "cell_type": "code",
   "execution_count": null,
   "metadata": {},
   "outputs": [],
   "source": []
  }
 ],
 "metadata": {
  "kernelspec": {
   "display_name": "Python 3",
   "language": "python",
   "name": "python3"
  },
  "language_info": {
   "codemirror_mode": {
    "name": "ipython",
    "version": 3
   },
   "file_extension": ".py",
   "mimetype": "text/x-python",
   "name": "python",
   "nbconvert_exporter": "python",
   "pygments_lexer": "ipython3",
<<<<<<< HEAD
   "version": "3.7.3"
=======
   "version": "3.5.2"
>>>>>>> 90152b5741bfffca86a725879c34e371b0889190
  }
 },
 "nbformat": 4,
 "nbformat_minor": 2
}
