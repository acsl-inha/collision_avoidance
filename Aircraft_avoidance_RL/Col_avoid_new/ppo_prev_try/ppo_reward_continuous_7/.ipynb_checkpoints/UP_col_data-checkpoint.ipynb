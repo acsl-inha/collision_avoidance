{
 "cells": [
  {
   "cell_type": "code",
   "execution_count": 1,
   "metadata": {},
   "outputs": [],
   "source": [
    "import torch,itertools,argparse,os,time,sys,random\n",
    "import numpy as np\n",
    "import matplotlib.pyplot as plt\n",
    "import torchvision\n",
    "import torch.nn as nn\n",
    "import torch.nn.functional as F\n",
    "import argparse\n",
    "from torch.utils.data import Dataset, DataLoader\n",
    "from torch import Tensor\n",
    "from typing import Type, Any, Callable, Union, List, Optional\n",
    "from torchsummary import summary\n",
    "import seaborn as sns"
   ]
  },
  {
   "cell_type": "code",
   "execution_count": 2,
   "metadata": {},
   "outputs": [],
   "source": [
    "class FClayer(nn.Module):\n",
    "    def __init__(self, innodes: int, nodes: int):\n",
    "        super(FClayer, self).__init__()\n",
    "        self.fc=nn.Linear(innodes,nodes)\n",
    "        self.act=nn.LeakyReLU(0.2, inplace=True)\n",
    "    def forward(self, x: Tensor) -> Tensor:\n",
    "        out=self.fc(x)\n",
    "        out=self.act(out)\n",
    "        return out"
   ]
  },
  {
   "cell_type": "code",
   "execution_count": 3,
   "metadata": {},
   "outputs": [],
   "source": [
    "class WaveNET(nn.Module):\n",
    "    def __init__(self, block: Type[Union[FClayer]], planes: List[int], nodes: List[int], num_classes: int = 3\n",
    "                ) -> None:\n",
    "        super(WaveNET, self).__init__()\n",
    "        self.innodes=5\n",
    "        \n",
    "        self.layer1=self._make_layer(block, planes[0], nodes[0])\n",
    "        self.layer2=self._make_layer(block, planes[1], nodes[1])\n",
    "        self.layer3=self._make_layer(block, planes[2], nodes[2])\n",
    "        \n",
    "        self.fin_fc=nn.Linear(self.innodes,num_classes)\n",
    "        \n",
    "        for m in self.modules():\n",
    "            if isinstance(m, nn.Linear):\n",
    "                nn.init.kaiming_normal_(m.weight, mode='fan_out', nonlinearity='leaky_relu')\n",
    "    \n",
    "    def _make_layer(self, block: Type[Union[FClayer]], planes: int, nodes: int) -> nn.Sequential:\n",
    "\n",
    "        layers = []\n",
    "        layers.append(block(self.innodes, nodes))\n",
    "        self.innodes = nodes\n",
    "        for _ in range(1, planes):\n",
    "            layers.append(block(self.innodes, nodes))\n",
    "\n",
    "        return nn.Sequential(*layers)\n",
    "\n",
    "        \n",
    "    def _forward_impl(self, x: Tensor) -> Tensor:\n",
    "        \n",
    "        x = self.layer1(x)\n",
    "        x = self.layer2(x)\n",
    "        x = self.layer3(x)\n",
    "        x = self.fin_fc(x)\n",
    "        \n",
    "        return x\n",
    "    \n",
    "    def forward(self, x: Tensor) -> Tensor:\n",
    "        return self._forward_impl(x)"
   ]
  },
  {
   "cell_type": "code",
   "execution_count": 4,
   "metadata": {},
   "outputs": [],
   "source": [
    "tr_model=torch.load(\"./Custom_model_fin\")\n",
    "tr_model.eval()\n",
    "mean=np.load('mean_test.npy')\n",
    "std=np.load('std_test.npy')"
   ]
  },
  {
   "cell_type": "code",
   "execution_count": 5,
   "metadata": {},
   "outputs": [],
   "source": [
    "# initialize\n",
    "\n",
    "# initial setting\n",
    "\n",
    "import numpy as np\n",
    "import matplotlib.pyplot as plt\n",
    "\n",
    "Deg2Rad = np.pi/180\n",
    "Rad2Deg = 1/Deg2Rad\n",
    "\n",
    "dt = 0.1              # control frequency\n",
    "tf = 15               # final time\n",
    "g = 9.8\n",
    "K_alt = .8*2          # hdot loop gain    \n",
    "RoC = 20              # maximum rate of climb (max. of hdot)\n",
    "AoA0 = -1.71*Deg2Rad     # zero lift angle of attack\n",
    "Acc2AoA = 0.308333*Deg2Rad  # 1m/s^2 ACC corresponds to 0.308333deg AOA \n",
    "zeta_ap = 0.7         # pitch acceleration loop damping\n",
    "omega_ap = 4          # pitch acceleration loop bandwidth\n",
    "\n",
    "dist_sep = 100        # near mid-air collision range\n",
    "\n",
    "t = np.arange(0, tf, dt)\n",
    "N = len(t)\n",
    "\n",
    "\n",
    "\n",
    "\n",
    "\n",
    "# hdot loop dynamics definition\n",
    "\n",
    "def model(z, t, hdot_cmd):                          # computes state derivatives  \n",
    "    a, adot, h, hdot, R = z                           # state vector: a (pitch acc), adot, h (alt), hdot, R (ground-track range)\n",
    "    gamma=np.arcsin(hdot/Vm)                          # fight path angle\n",
    "    ac = K_alt * (hdot_cmd - hdot) + g/np.cos(gamma)  # pitch acceleration command\n",
    "    ac = np.clip(ac, -30, 30)                         # maneuver limit\n",
    "  \n",
    "    addot = omega_ap*omega_ap*(ac-a) - 2*zeta_ap*omega_ap*adot\n",
    "    hddot = a*np.cos(gamma) - g\n",
    "    Rdot = Vm*np.cos(gamma)\n",
    "    return np.array([adot, addot, hdot, hddot, Rdot]) # returns state derivatives "
   ]
  },
  {
   "cell_type": "code",
   "execution_count": 6,
   "metadata": {},
   "outputs": [
    {
     "name": "stdout",
     "output_type": "stream",
     "text": [
      "100\n"
     ]
    }
   ],
   "source": [
    "# player initial conditions\n",
    "total_sim=100\n",
    "\n",
    "hdot_flag=0\n",
    "res_Y = np.zeros(((N,7,total_sim)))                       # print-out data\n",
    "\n",
    "\n",
    "hdot_res_cmd=[]\n",
    "while True:\n",
    "    hdot_res=[]\n",
    "    hdot_res.append(0)\n",
    "    time_temp=0\n",
    "    errcmd=0\n",
    "    insight=0\n",
    "    \n",
    "    \n",
    "    hm0 = 1000                                                     # initial altitude\n",
    "    Vm = 200                                                       # initial speed\n",
    "    gamma0 = 0*Deg2Rad                                             # initial flight path angle\n",
    "    Pm_NED = np.array([0, 0, -hm0])                                # initial NED position\n",
    "    Vm_NED = np.array([Vm*np.cos(gamma0), 0, -Vm*np.sin(gamma0)])  # initial NED velocity\n",
    "\n",
    "    # state variable: [a, adot, h, hdot, R]\n",
    "    X0 = np.array([g/np.cos(gamma0), 0, hm0, -Vm_NED[2], 0])       # initial state vector\n",
    "\n",
    "    # target initial conditions\n",
    "    # randomly generated target initial conditions\n",
    "    #ht0 = 1000 + 200*np.random.randn()\n",
    "    ht0 = 1000\n",
    "    #ht0 = 950\n",
    "    Vt = 200\n",
    "    approach_angle = 1*Deg2Rad*(2*np.random.rand()-1)\n",
    "    #approach_angle = np.pi/6\n",
    "    psi0 = np.pi + approach_angle\n",
    "    #psi0 = np.pi*7/6\n",
    "    psi0 = np.arctan2(np.sin(psi0), np.cos(psi0))\n",
    "\n",
    "    Pt_N = 2000*(1+np.cos(approach_angle))\n",
    "    Pt_E = 2000*np.sin(approach_angle)\n",
    "    Pt_D = -ht0\n",
    "    Pt_NED = np.array([Pt_N, Pt_E, Pt_D])                             # initial NED position\n",
    "    Vt_NED = np.array([Vt*np.cos(psi0), Vt*np.sin(psi0), 0])       # initial NED velocity\n",
    "\n",
    "\n",
    "    # initialize variables\n",
    "    X = np.zeros((N,len(X0)))\n",
    "    X[0,:] = X0\n",
    "    dotX_p = 0\n",
    "\n",
    "    Y = np.zeros((N,7))                       # print-out data\n",
    "    theta0 = gamma0 + X0[0]*Acc2AoA + AoA0 # initial pitch angle\n",
    "\n",
    "    DCM = np.zeros((3,3))                      # initial DCM NED-to-Body\n",
    "    DCM[0,0] =  np.cos(theta0)\n",
    "    DCM[0,2] = -np.sin(theta0)\n",
    "    DCM[1,1] =  1\n",
    "    DCM[2,0] =  np.sin(theta0)\n",
    "    DCM[2,2] =  np.cos(theta0)\n",
    "\n",
    "    Pr_NED = Pt_NED - Pm_NED                   # relative NED position\n",
    "    Vr_NED = Vt_NED - Vm_NED                   # relative NED velosity\n",
    "\n",
    "    Pr_Body = np.dot(DCM, Pr_NED)              # relative position (Body frame)\n",
    "\n",
    "    # radar outputs\n",
    "    r = np.linalg.norm(Pr_Body)                # range\n",
    "    vc = -np.dot(Pr_NED, Vr_NED)/r             # closing velocity\n",
    "    elev = np.arctan2(Pr_Body[2], Pr_Body[0])  # target vertival look angle (down +)\n",
    "    azim = np.arctan2(Pr_Body[1], Pr_Body[0]/np.cos(theta0))  # target horizontal look angle (right +)\n",
    "\n",
    "    los = theta0 - elev                        # line of sight angle\n",
    "    dlos = 0\n",
    "    daz = 0\n",
    "\n",
    "    Y[0,:] = np.array([*Pm_NED, *Pt_NED,r]) \n",
    "    # static variables\n",
    "    los_p = los\n",
    "    dlos_p = dlos\n",
    "    azim_p = azim\n",
    "    daz_p = daz\n",
    "    cmd_hold = False\n",
    "    cmd_start = False\n",
    "    direction_avoid = 0\n",
    "    hdot_cmd = 0\n",
    "    hdot = 0\n",
    "    gamma = gamma0\n",
    "    count_change_hdot=0\n",
    "    count_change_hdot2=0\n",
    "    count_vert_col=0\n",
    "    err=0\n",
    "    vc0=vc\n",
    "\n",
    "    # main loop\n",
    "    for k in range(N-1):  \n",
    "        ##############################################################################\n",
    "        # UPDATE ENVIRONMENT AND GET OBSERVATION\n",
    "\n",
    "        # update environment\n",
    "        # adams-bashforth 2nd order integration\n",
    "        dotX = model(X[k,:], t[k], hdot_cmd)\n",
    "        X[k+1,:] = X[k,:] + 0.5*(3*dotX-dotX_p)*dt\n",
    "        dotX_p = dotX\n",
    "\n",
    "        Pt_NED = Pt_NED + Vt_NED*dt        # target position integration\n",
    "\n",
    "        # get observation\n",
    "\n",
    "        a, adot, h, hdot, R = X[k+1,:]\n",
    "\n",
    "        gamma = np.arcsin(hdot/Vm)\n",
    "        theta = gamma + a*Acc2AoA + AoA0\n",
    "\n",
    "        DCM = np.zeros((3,3))\n",
    "        DCM[0,0] =  np.cos(theta)\n",
    "        DCM[0,2] = -np.sin(theta)\n",
    "        DCM[1,1] =  1\n",
    "        DCM[2,0] =  np.sin(theta)\n",
    "        DCM[2,2] =  np.cos(theta)\n",
    "\n",
    "        Pm_NED = np.array([R, 0, -h]) \n",
    "        Vm_NED = np.array([Vm*np.cos(gamma), 0, -Vm*np.sin(gamma)])\n",
    "\n",
    "        Pr_NED = Pt_NED - Pm_NED\n",
    "        Vr_NED = Vt_NED - Vm_NED\n",
    "\n",
    "        Pr_Body = np.dot(DCM, Pr_NED)\n",
    "\n",
    "        r = np.linalg.norm(Pr_Body)\n",
    "        vc = -np.dot(Pr_NED, Vr_NED)/r \n",
    "        elev = np.arctan2(Pr_Body[2], Pr_Body[0])\n",
    "        azim = np.arctan2(Pr_Body[1], Pr_Body[0]/np.cos(theta))\n",
    "\n",
    "        psi = np.arctan2(Vt_NED[1], Vt_NED[0])\n",
    "\n",
    "        # los rate and az rate estimation\n",
    "        los = theta - elev\n",
    "\n",
    "        dlos = ( 30*(los-los_p) + 0*dlos_p ) / 3 # filtered LOS rate, F(s)=20s/(s+20)\n",
    "        daz = ( 30*(azim-azim_p) + 0*daz_p ) / 3 # filtered azim rate, F(s)=20s/(s+20)\n",
    "\n",
    "        los_p = los\n",
    "        dlos_p = dlos\n",
    "        azim_p = azim\n",
    "        daz_p = daz\n",
    "\n",
    "        # estimate closest approach\n",
    "        min_dist_vert = r*r/vc*dlos\n",
    "        min_dist_horiz = r*r/vc0*daz\n",
    "\n",
    "        # estimate cruise distance\n",
    "        dist_cruise = r*los\n",
    "\n",
    "        ##############################################################################\n",
    "        # COMPUTE ACTION (BEGIN)\n",
    "        if k>3 and r>dist_sep and abs(elev)<40*Deg2Rad and abs(azim)<40*Deg2Rad:\n",
    "            insight+=1\n",
    "            data=torch.tensor(((np.array([r,vc,los,daz,dlos])\n",
    "                 -mean)/std).astype(np.float32)).cuda()\n",
    "            output=tr_model(data.view(-1,5))\n",
    "            _, predicted=torch.max(output,1)\n",
    "            if predicted[0]==0:\n",
    "                hdot_cmd=0\n",
    "            if predicted[0]==1:\n",
    "                if hdot_cmd!=-20:\n",
    "                    count_change_hdot+=1\n",
    "                hdot_cmd=-20\n",
    "            if predicted[0]==2:\n",
    "                if hdot_cmd!=20:\n",
    "                    count_change_hdot+=1\n",
    "                hdot_cmd=20\n",
    "                \n",
    "\n",
    "\n",
    "\n",
    "        ##############################################################################\n",
    "        # WRITE DATA\n",
    "        elif k>3:\n",
    "            hdot_cmd=0\n",
    "        Y[k+1,:] = np.array([*Pm_NED, *Pt_NED,r]) \n",
    "    if insight>0:\n",
    "        hdot_res_cmd.append(count_change_hdot)\n",
    "        res_Y[:,:,hdot_flag]=Y\n",
    "        hdot_flag+=1\n",
    "        if hdot_flag%100==0:\n",
    "            print(hdot_flag)\n",
    "    if hdot_flag==total_sim:\n",
    "        break\n",
    "        "
   ]
  },
  {
   "cell_type": "code",
   "execution_count": 7,
   "metadata": {},
   "outputs": [],
   "source": [
    "# import csv\n",
    "# fil_name = 'ddss_collision'\n",
    "# example = res_Y.tolist()\n",
    "# with open(fil_name+'.csv', 'w', newline='') as csvfile:\n",
    "#     writer = csv.writer(csvfile, delimiter=',')\n",
    "#     writer.writerows(example)"
   ]
  },
  {
   "cell_type": "code",
   "execution_count": 8,
   "metadata": {},
   "outputs": [
    {
     "data": {
      "image/png": "[encoded data removed]",
      "text/plain": [
       "<Figure size 900x900 with 1 Axes>"
      ]
     },
     "metadata": {
      "needs_background": "light"
     },
     "output_type": "display_data"
    },
    {
     "data": {
      "image/png": "[encoded data removed]",
      "text/plain": [
       "<Figure size 900x400 with 1 Axes>"
      ]
     },
     "metadata": {
      "needs_background": "light"
     },
     "output_type": "display_data"
    },
    {
     "name": "stdout",
     "output_type": "stream",
     "text": [
      "0.6688835620880127\n"
     ]
    }
   ],
   "source": [
    "import time\n",
    "st=time.time()\n",
    "plt.figure(figsize=(9,9), dpi=100)\n",
    "for sim_num in range(total_sim):\n",
    "    plt.plot(res_Y[:,0,sim_num], res_Y[:,1,sim_num], label='player', linewidth=3, alpha=0.1,color='green')\n",
    "    plt.plot(res_Y[:,3,sim_num], res_Y[:,4,sim_num], label='target', linewidth=3, alpha=0.1,color='blue')\n",
    "plt.xlabel('North')\n",
    "plt.ylabel('East')\n",
    "plt.xlim(-100,4100)\n",
    "plt.grid(), plt.axis('equal')\n",
    "plt.show()\n",
    "\n",
    "plt.figure(figsize=(9,4), dpi=100)\n",
    "for sim_num in range(total_sim):\n",
    "    plt.plot(res_Y[:,0,sim_num], -res_Y[:,2,sim_num], label='player', linewidth=3,alpha=0.05,color='green')\n",
    "    plt.plot(res_Y[:,3,sim_num], -res_Y[:,5,sim_num], label='target', linewidth=3,alpha=0.05,color='blue')\n",
    "plt.xlabel('Range')\n",
    "plt.ylabel('Up')\n",
    "plt.ylim(500,1500)\n",
    "plt.xlim(-100,4100)\n",
    "plt.grid(), plt.axis('equal')\n",
    "plt.show()\n",
    "print(time.time()-st)"
   ]
  },
  {
   "cell_type": "code",
   "execution_count": 9,
   "metadata": {},
   "outputs": [
    {
     "name": "stdout",
     "output_type": "stream",
     "text": [
      "0\n"
     ]
    }
   ],
   "source": [
    "err=0\n",
    "disy=np.zeros(total_sim)\n",
    "for i in range (total_sim):\n",
    "    disy[i]=min(res_Y[:,6,i])\n",
    "    if min(res_Y[:,6,i])<dist_sep:\n",
    "        err+=1\n",
    "print(err)\n"
   ]
  },
  {
   "cell_type": "code",
   "execution_count": 10,
   "metadata": {},
   "outputs": [
    {
     "data": {
      "text/plain": [
       "<matplotlib.axes._subplots.AxesSubplot at 0x7f6f8f824978>"
      ]
     },
     "execution_count": 10,
     "metadata": {},
     "output_type": "execute_result"
    },
    {
     "data": {
      "image/png": "[encoded data removed]",
      "text/plain": [
       "<Figure size 1080x1080 with 1 Axes>"
      ]
     },
     "metadata": {
      "needs_background": "light"
     },
     "output_type": "display_data"
    }
   ],
   "source": [
    "plt.figure(figsize=(15,15))\n",
    "sns.set(color_codes=True)\n",
    "sns.distplot(disy)"
   ]
  },
  {
   "cell_type": "code",
   "execution_count": null,
   "metadata": {},
   "outputs": [],
   "source": []
  }
 ],
 "metadata": {
  "kernelspec": {
   "display_name": "Python 3",
   "language": "python",
   "name": "python3"
  },
  "language_info": {
   "codemirror_mode": {
    "name": "ipython",
    "version": 3
   },
   "file_extension": ".py",
   "mimetype": "text/x-python",
   "name": "python",
   "nbconvert_exporter": "python",
   "pygments_lexer": "ipython3",
   "version": "3.7.3"
  }
 },
 "nbformat": 4,
 "nbformat_minor": 2
}
