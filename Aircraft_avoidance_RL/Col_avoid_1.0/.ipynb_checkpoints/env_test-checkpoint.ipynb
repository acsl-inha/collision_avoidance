{
 "cells": [
  {
   "cell_type": "code",
   "execution_count": 1,
   "metadata": {},
   "outputs": [],
   "source": [
    "import gym\n",
    "import gym_Aircraft\n",
    "\n",
    "import matplotlib.pyplot as plt"
   ]
  },
  {
   "cell_type": "code",
   "execution_count": 2,
   "metadata": {},
   "outputs": [
    {
     "name": "stderr",
     "output_type": "stream",
     "text": [
      "/home/hyogun/anaconda3/envs/collision_avoidance/lib/python3.8/site-packages/gym/logger.py:30: UserWarning: \u001b[33mWARN: Box bound precision lowered by casting to float32\u001b[0m\n",
      "  warnings.warn(colorize('%s: %s'%('WARN', msg % args), 'yellow'))\n"
     ]
    },
    {
     "data": {
      "text/plain": [
       "[960501]"
      ]
     },
     "execution_count": 2,
     "metadata": {},
     "output_type": "execute_result"
    }
   ],
   "source": [
    "# env 수정 => reload\n",
    "env = gym.make(\"acav-v0\")\n",
    "env.action_space.seed(960501)"
   ]
  },
  {
   "cell_type": "code",
   "execution_count": 3,
   "metadata": {},
   "outputs": [
    {
     "data": {
      "text/plain": [
       "array([0., 0., 0., 0., 0.])"
      ]
     },
     "execution_count": 3,
     "metadata": {},
     "output_type": "execute_result"
    }
   ],
   "source": [
    "# r: range\n",
    "# vc: closing velocity\n",
    "# los: line of sight angle\n",
    "# daz: azimuthal rate (horizontal look angle, right +)\n",
    "# dlos: los rate\n",
    "obs0 = env.reset() \n",
    "obs0"
   ]
  },
  {
   "cell_type": "code",
   "execution_count": 12,
   "metadata": {},
   "outputs": [
    {
     "name": "stdout",
     "output_type": "stream",
     "text": [
      "action:\t 0\n",
      "reward:\t 0\n",
      "done:\t False\n",
      "observations\n",
      "  r       :\t3661.9873770019585\n",
      "  vc      :\t399.1262776389704\n",
      "  los     :\t0.00018688211294391743\n",
      "  daz     :\t-1.5190477729021268e-05\n",
      "  dlos    :\t0.0004610357997150011\n",
      "\n",
      "infos\n",
      "  hdot_cmd:\t0\n",
      "  r       :\t3661.9873770019585\n",
      "  elev    :\t0.0727257140903262\n",
      "  azim    :\t-0.06628144006233395\n",
      "  Pm_NED  :\t[ 169.997673      0.         -999.31714283]\n",
      "  Pt_NED  :\t[ 3823.94373705  -242.54740584 -1000.        ]\n",
      "  h       :\t999.3171428310186\n"
     ]
    }
   ],
   "source": [
    "a = env.action_space.sample()\n",
    "obs, reward, done, info = env.step(a)\n",
    "print('action:\\t', a) \n",
    "print('reward:\\t', reward)\n",
    "print('done:\\t', done) \n",
    "print('observations')\n",
    "for label, val in zip(['r', 'vc', 'los', 'daz', 'dlos'], obs):\n",
    "    print(f'  {label:8}:\\t{val}')\n",
    "\n",
    "print('\\ninfos')\n",
    "for label, val in zip(['hdot_cmd', 'r', 'elev', 'azim', 'Pm_NED', 'Pt_NED', 'h'], info):\n",
    "    print(f'  {label:8}:\\t{val}')"
   ]
  }
 ],
 "metadata": {
  "kernelspec": {
   "display_name": "Collision Avoidance 3.8",
   "language": "python",
   "name": "ca38"
  },
  "language_info": {
   "codemirror_mode": {
    "name": "ipython",
    "version": 3
   },
   "file_extension": ".py",
   "mimetype": "text/x-python",
   "name": "python",
   "nbconvert_exporter": "python",
   "pygments_lexer": "ipython3",
   "version": "3.8.5"
  }
 },
 "nbformat": 4,
 "nbformat_minor": 4
}
