{
 "cells": [
  {
   "cell_type": "code",
   "execution_count": 1,
   "metadata": {},
   "outputs": [],
   "source": [
    "import gym\n",
    "import gym_Aircraft\n",
    "\n",
    "import matplotlib.pyplot as plt"
   ]
  },
  {
   "cell_type": "code",
   "execution_count": 2,
   "metadata": {},
   "outputs": [
    {
     "name": "stderr",
     "output_type": "stream",
     "text": [
      "/home/hyogun/anaconda3/envs/collision_avoidance/lib/python3.8/site-packages/gym/logger.py:30: UserWarning: \u001b[33mWARN: Box bound precision lowered by casting to float32\u001b[0m\n",
      "  warnings.warn(colorize('%s: %s'%('WARN', msg % args), 'yellow'))\n"
     ]
    },
    {
     "data": {
      "text/plain": [
       "[960501]"
      ]
     },
     "execution_count": 2,
     "metadata": {},
     "output_type": "execute_result"
    }
   ],
   "source": [
    "# env 수정 => reload\n",
    "env = gym.make(\"acav-v0\")\n",
    "env.action_space.seed(960501)"
   ]
  },
  {
   "cell_type": "code",
   "execution_count": 3,
   "metadata": {},
   "outputs": [
    {
     "name": "stdout",
     "output_type": "stream",
     "text": [
      "observations\n",
      "  range   :\t0.0\n",
      "  vc      :\t0.0\n",
      "  los     :\t0.0\n",
      "  daz     :\t0.0\n",
      "  dlos    :\t0.0\n"
     ]
    }
   ],
   "source": [
    "# r: range\n",
    "# vc: closing velocity\n",
    "# los: line of sight angle\n",
    "# daz: azimuthal rate (horizontal look angle, right +)\n",
    "# dlos: los rate\n",
    "obs0 = env.reset() \n",
    "print('observations')\n",
    "for label, val in zip(['range', 'vc', 'los', 'daz', 'dlos'], obs0):\n",
    "    print(f'  {label:8}:\\t{val}')"
   ]
  },
  {
   "cell_type": "code",
   "execution_count": 245,
   "metadata": {},
   "outputs": [
    {
     "name": "stdout",
     "output_type": "stream",
     "text": [
      "action:\t 2\n",
      "reward:\t -50.302\n",
      "done:\t True\n",
      "observations\n",
      "  range     :\t5002.098922151989\n",
      "  vc        :\t-395.64399862867754\n",
      "  los       :\t3.229783319370557\n",
      "  daz       :\t-5.0100781918693826e-05\n",
      "  dlos      :\t-0.002966407088500489\n",
      "\n",
      "infos\n",
      "  hdot_cmd  :\t20\n",
      "  range     :\t5002.098922151989\n",
      "  elev      :\t-3.1064573690247976\n",
      "  azim      :\t3.0084706386421813\n",
      "  Pm_NED    :\t[ 4508.24986645     0.         -1436.61456956]\n",
      "  Pt_NED    :\t[ -429.71087433   668.50958645 -1000.        ]\n",
      "  h         :\t1436.6145695638022\n"
     ]
    }
   ],
   "source": [
    "# a = env.action_space.sample()\n",
    "a = 2\n",
    "obs, reward, done, info = env.step(a)\n",
    "print('action:\\t', a) \n",
    "print('reward:\\t', reward)\n",
    "print('done:\\t', done) \n",
    "print('observations')\n",
    "for label, val in zip(['range', 'vc', 'los', 'daz', 'dlos'], obs):\n",
    "    print(f'  {label:10}:\\t{val}')\n",
    "\n",
    "print('\\ninfos')\n",
    "for label, val in zip(['hdot_cmd', 'range', 'elev', 'azim', 'Pm_NED', 'Pt_NED', 'h'], info):\n",
    "    print(f'  {label:10}:\\t{val}')"
   ]
  },
  {
   "cell_type": "code",
   "execution_count": 236,
   "metadata": {},
   "outputs": [
    {
     "data": {
      "text/plain": [
       "226"
      ]
     },
     "execution_count": 236,
     "metadata": {},
     "output_type": "execute_result"
    }
   ],
   "source": [
    "env.t_step"
   ]
  }
 ],
 "metadata": {
  "kernelspec": {
   "display_name": "Collision Avoidance 3.8",
   "language": "python",
   "name": "collision_avoidance"
  },
  "language_info": {
   "codemirror_mode": {
    "name": "ipython",
    "version": 3
   },
   "file_extension": ".py",
   "mimetype": "text/x-python",
   "name": "python",
   "nbconvert_exporter": "python",
   "pygments_lexer": "ipython3",
   "version": "3.8.5"
  }
 },
 "nbformat": 4,
 "nbformat_minor": 4
}
